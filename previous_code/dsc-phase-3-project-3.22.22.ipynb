{
 "cells": [
  {
   "cell_type": "markdown",
   "metadata": {},
   "source": [
    "# QUESTIONS\n",
    "- consider adding pipelines?\n",
    "- feature engineering?\n",
    "- fitting transformers?\n",
    "- go into detail on why DT's > log and KNN\n",
    "\n",
    "Data Preparation for Machine Learning\n",
    "We define this objective as:\n",
    "\n",
    "Applying appropriate preprocessing and feature engineering steps to tabular data in preparation for predictive modeling\n",
    "\n",
    "This builds on the data preparation requirement from the Phase 2 project; you still need to ensure that you have a strategy for dealing with missing and non-numeric data.\n",
    "\n",
    "For the Phase 3 project, make sure you also consider:\n",
    "\n",
    "Preventing Data Leakage: As you prepare data for modeling, make sure that you are correctly applying data preparation techniques so that your model's performance on test data realistically represents how it would perform on unseen data. For scikit-learn transformers specifically, make sure that you do not fit the transformer on the test data. Instead, fit the transformer on the training data and use it to transform both the train and test data.\n",
    "Scaling: If you are using a distance-based model algorithm (e.g. kNN or logistic regression with regularization), make sure you scale your data prior to fitting the model.\n",
    "Feature engineering is encouraged but not required for this project.\n",
    "\n",
    "Exceeds Objective\n",
    "Goes above and beyond with data preparation, such as feature engineering or using pipelines\n",
    "\n",
    "Relevant examples of feature engineering will depend on your choice of dataset and business problem.\n",
    "\n",
    "Pipelines are the best-practice approach to data preparation that avoids leakage, but they can get complicated very quickly. We therefore do not recommend that you use pipelines in your initial modeling approach, but rather that you refactor to use pipelines if you have time.\n",
    "\n",
    "Meets Objective (Passing Bar)\n",
    "Successfully prepares data for modeling, using a final holdout dataset that is transformed by (but not fitted on) transformers used to prepare training data AND scaling data when appropriate\n",
    "\n",
    "See the descriptions above for explanations of how to use transformers and scaling.\n",
    "\n",
    "Nonparametric and Ensemble Modeling\n",
    "This builds on the linear modeling requirement from the Phase 2 project. Your project should consider the different types of models that have been covered in the course so far and whether they are appropriate or inappropriate for the dataset and business case you are working with.\n",
    "\n",
    "Your final model can still be a linear model (e.g. logistic regression) but you should explore at least one nonparametric model (e.g. decision tree) as well and articulate why one or the other is a better approach.\n",
    "\n",
    "Exceeds Objective\n",
    "Goes above and beyond in the modeling process, such as articulating why a given model type is best suited to the problem or correctly using scikit-learn models not covered in the curriculum\n",
    "\n",
    "Another way you might go above and beyond would be to create custom Python classes, possibly inheriting from scikit-learn classes.\n",
    "\n",
    "Meets Objective (Passing Bar)\n",
    "Uses at least two types of scikit-learn model and tunes at least one hyperparameter in a justifiable way without any major errors\n",
    "\n",
    "See the \"Iterative Approach to Modeling\" section above for a more-lengthy explanation.\n",
    "\n",
    "Once again, ideally you would include written justifications for each model iteration, but at minimum the iterations must be justifiable.\n",
    "\n",
    "For an explanation of \"major errors\", see the description under \"Approaching Objective\"."
   ]
  },
  {
   "cell_type": "code",
   "execution_count": 1,
   "metadata": {},
   "outputs": [],
   "source": [
    "# Importing neccessary packages\n",
    "import pandas as pd\n",
    "import numpy as np\n",
    "import matplotlib.pyplot as plt\n",
    "from sklearn.model_selection import train_test_split, GridSearchCV\n",
    "from sklearn.linear_model import LogisticRegression\n",
    "from sklearn.metrics import confusion_matrix, classification_report\n",
    "from sklearn.metrics import plot_confusion_matrix\n",
    "from sklearn.metrics import precision_score, recall_score, accuracy_score, f1_score\n",
    "from sklearn.preprocessing import StandardScaler\n",
    "from sklearn.tree import DecisionTreeClassifier \n",
    "from sklearn.metrics import roc_curve, auc\n",
    "from sklearn import tree\n",
    "from sklearn.ensemble import BaggingClassifier, RandomForestClassifier\n",
    "\n",
    "pd.set_option(\"display.max_columns\", 100)"
   ]
  },
  {
   "cell_type": "markdown",
   "metadata": {},
   "source": [
    "Business Understanding"
   ]
  },
  {
   "cell_type": "markdown",
   "metadata": {},
   "source": [
    "A pass grade is a 60% (D) or higher for this school district"
   ]
  },
  {
   "cell_type": "code",
   "execution_count": 2,
   "metadata": {},
   "outputs": [
    {
     "data": {
      "text/html": [
       "<div>\n",
       "<style scoped>\n",
       "    .dataframe tbody tr th:only-of-type {\n",
       "        vertical-align: middle;\n",
       "    }\n",
       "\n",
       "    .dataframe tbody tr th {\n",
       "        vertical-align: top;\n",
       "    }\n",
       "\n",
       "    .dataframe thead th {\n",
       "        text-align: right;\n",
       "    }\n",
       "</style>\n",
       "<table border=\"1\" class=\"dataframe\">\n",
       "  <thead>\n",
       "    <tr style=\"text-align: right;\">\n",
       "      <th></th>\n",
       "      <th>school</th>\n",
       "      <th>sex</th>\n",
       "      <th>age</th>\n",
       "      <th>address</th>\n",
       "      <th>famsize</th>\n",
       "      <th>Pstatus</th>\n",
       "      <th>Medu</th>\n",
       "      <th>Fedu</th>\n",
       "      <th>Mjob</th>\n",
       "      <th>Fjob</th>\n",
       "      <th>reason</th>\n",
       "      <th>guardian</th>\n",
       "      <th>traveltime</th>\n",
       "      <th>studytime</th>\n",
       "      <th>failures</th>\n",
       "      <th>schoolsup</th>\n",
       "      <th>famsup</th>\n",
       "      <th>paid</th>\n",
       "      <th>activities</th>\n",
       "      <th>nursery</th>\n",
       "      <th>higher</th>\n",
       "      <th>internet</th>\n",
       "      <th>romantic</th>\n",
       "      <th>famrel</th>\n",
       "      <th>freetime</th>\n",
       "      <th>goout</th>\n",
       "      <th>Dalc</th>\n",
       "      <th>Walc</th>\n",
       "      <th>health</th>\n",
       "      <th>absences</th>\n",
       "      <th>G1</th>\n",
       "      <th>G2</th>\n",
       "      <th>G3</th>\n",
       "      <th>subject</th>\n",
       "    </tr>\n",
       "  </thead>\n",
       "  <tbody>\n",
       "    <tr>\n",
       "      <th>0</th>\n",
       "      <td>GP</td>\n",
       "      <td>F</td>\n",
       "      <td>18</td>\n",
       "      <td>U</td>\n",
       "      <td>GT3</td>\n",
       "      <td>A</td>\n",
       "      <td>4</td>\n",
       "      <td>4</td>\n",
       "      <td>at_home</td>\n",
       "      <td>teacher</td>\n",
       "      <td>course</td>\n",
       "      <td>mother</td>\n",
       "      <td>2</td>\n",
       "      <td>2</td>\n",
       "      <td>0</td>\n",
       "      <td>yes</td>\n",
       "      <td>no</td>\n",
       "      <td>no</td>\n",
       "      <td>no</td>\n",
       "      <td>yes</td>\n",
       "      <td>yes</td>\n",
       "      <td>no</td>\n",
       "      <td>no</td>\n",
       "      <td>4</td>\n",
       "      <td>3</td>\n",
       "      <td>4</td>\n",
       "      <td>1</td>\n",
       "      <td>1</td>\n",
       "      <td>3</td>\n",
       "      <td>6</td>\n",
       "      <td>5</td>\n",
       "      <td>6</td>\n",
       "      <td>6</td>\n",
       "      <td>Math</td>\n",
       "    </tr>\n",
       "    <tr>\n",
       "      <th>1</th>\n",
       "      <td>GP</td>\n",
       "      <td>F</td>\n",
       "      <td>17</td>\n",
       "      <td>U</td>\n",
       "      <td>GT3</td>\n",
       "      <td>T</td>\n",
       "      <td>1</td>\n",
       "      <td>1</td>\n",
       "      <td>at_home</td>\n",
       "      <td>other</td>\n",
       "      <td>course</td>\n",
       "      <td>father</td>\n",
       "      <td>1</td>\n",
       "      <td>2</td>\n",
       "      <td>0</td>\n",
       "      <td>no</td>\n",
       "      <td>yes</td>\n",
       "      <td>no</td>\n",
       "      <td>no</td>\n",
       "      <td>no</td>\n",
       "      <td>yes</td>\n",
       "      <td>yes</td>\n",
       "      <td>no</td>\n",
       "      <td>5</td>\n",
       "      <td>3</td>\n",
       "      <td>3</td>\n",
       "      <td>1</td>\n",
       "      <td>1</td>\n",
       "      <td>3</td>\n",
       "      <td>4</td>\n",
       "      <td>5</td>\n",
       "      <td>5</td>\n",
       "      <td>6</td>\n",
       "      <td>Math</td>\n",
       "    </tr>\n",
       "    <tr>\n",
       "      <th>2</th>\n",
       "      <td>GP</td>\n",
       "      <td>F</td>\n",
       "      <td>15</td>\n",
       "      <td>U</td>\n",
       "      <td>LE3</td>\n",
       "      <td>T</td>\n",
       "      <td>1</td>\n",
       "      <td>1</td>\n",
       "      <td>at_home</td>\n",
       "      <td>other</td>\n",
       "      <td>other</td>\n",
       "      <td>mother</td>\n",
       "      <td>1</td>\n",
       "      <td>2</td>\n",
       "      <td>3</td>\n",
       "      <td>yes</td>\n",
       "      <td>no</td>\n",
       "      <td>yes</td>\n",
       "      <td>no</td>\n",
       "      <td>yes</td>\n",
       "      <td>yes</td>\n",
       "      <td>yes</td>\n",
       "      <td>no</td>\n",
       "      <td>4</td>\n",
       "      <td>3</td>\n",
       "      <td>2</td>\n",
       "      <td>2</td>\n",
       "      <td>3</td>\n",
       "      <td>3</td>\n",
       "      <td>10</td>\n",
       "      <td>7</td>\n",
       "      <td>8</td>\n",
       "      <td>10</td>\n",
       "      <td>Math</td>\n",
       "    </tr>\n",
       "    <tr>\n",
       "      <th>3</th>\n",
       "      <td>GP</td>\n",
       "      <td>F</td>\n",
       "      <td>15</td>\n",
       "      <td>U</td>\n",
       "      <td>GT3</td>\n",
       "      <td>T</td>\n",
       "      <td>4</td>\n",
       "      <td>2</td>\n",
       "      <td>health</td>\n",
       "      <td>services</td>\n",
       "      <td>home</td>\n",
       "      <td>mother</td>\n",
       "      <td>1</td>\n",
       "      <td>3</td>\n",
       "      <td>0</td>\n",
       "      <td>no</td>\n",
       "      <td>yes</td>\n",
       "      <td>yes</td>\n",
       "      <td>yes</td>\n",
       "      <td>yes</td>\n",
       "      <td>yes</td>\n",
       "      <td>yes</td>\n",
       "      <td>yes</td>\n",
       "      <td>3</td>\n",
       "      <td>2</td>\n",
       "      <td>2</td>\n",
       "      <td>1</td>\n",
       "      <td>1</td>\n",
       "      <td>5</td>\n",
       "      <td>2</td>\n",
       "      <td>15</td>\n",
       "      <td>14</td>\n",
       "      <td>15</td>\n",
       "      <td>Math</td>\n",
       "    </tr>\n",
       "    <tr>\n",
       "      <th>4</th>\n",
       "      <td>GP</td>\n",
       "      <td>F</td>\n",
       "      <td>16</td>\n",
       "      <td>U</td>\n",
       "      <td>GT3</td>\n",
       "      <td>T</td>\n",
       "      <td>3</td>\n",
       "      <td>3</td>\n",
       "      <td>other</td>\n",
       "      <td>other</td>\n",
       "      <td>home</td>\n",
       "      <td>father</td>\n",
       "      <td>1</td>\n",
       "      <td>2</td>\n",
       "      <td>0</td>\n",
       "      <td>no</td>\n",
       "      <td>yes</td>\n",
       "      <td>yes</td>\n",
       "      <td>no</td>\n",
       "      <td>yes</td>\n",
       "      <td>yes</td>\n",
       "      <td>no</td>\n",
       "      <td>no</td>\n",
       "      <td>4</td>\n",
       "      <td>3</td>\n",
       "      <td>2</td>\n",
       "      <td>1</td>\n",
       "      <td>2</td>\n",
       "      <td>5</td>\n",
       "      <td>4</td>\n",
       "      <td>6</td>\n",
       "      <td>10</td>\n",
       "      <td>10</td>\n",
       "      <td>Math</td>\n",
       "    </tr>\n",
       "  </tbody>\n",
       "</table>\n",
       "</div>"
      ],
      "text/plain": [
       "  school sex  age address famsize Pstatus  Medu  Fedu     Mjob      Fjob  \\\n",
       "0     GP   F   18       U     GT3       A     4     4  at_home   teacher   \n",
       "1     GP   F   17       U     GT3       T     1     1  at_home     other   \n",
       "2     GP   F   15       U     LE3       T     1     1  at_home     other   \n",
       "3     GP   F   15       U     GT3       T     4     2   health  services   \n",
       "4     GP   F   16       U     GT3       T     3     3    other     other   \n",
       "\n",
       "   reason guardian  traveltime  studytime  failures schoolsup famsup paid  \\\n",
       "0  course   mother           2          2         0       yes     no   no   \n",
       "1  course   father           1          2         0        no    yes   no   \n",
       "2   other   mother           1          2         3       yes     no  yes   \n",
       "3    home   mother           1          3         0        no    yes  yes   \n",
       "4    home   father           1          2         0        no    yes  yes   \n",
       "\n",
       "  activities nursery higher internet romantic  famrel  freetime  goout  Dalc  \\\n",
       "0         no     yes    yes       no       no       4         3      4     1   \n",
       "1         no      no    yes      yes       no       5         3      3     1   \n",
       "2         no     yes    yes      yes       no       4         3      2     2   \n",
       "3        yes     yes    yes      yes      yes       3         2      2     1   \n",
       "4         no     yes    yes       no       no       4         3      2     1   \n",
       "\n",
       "   Walc  health  absences  G1  G2  G3 subject  \n",
       "0     1       3         6   5   6   6    Math  \n",
       "1     1       3         4   5   5   6    Math  \n",
       "2     3       3        10   7   8  10    Math  \n",
       "3     1       5         2  15  14  15    Math  \n",
       "4     2       5         4   6  10  10    Math  "
      ]
     },
     "execution_count": 2,
     "metadata": {},
     "output_type": "execute_result"
    }
   ],
   "source": [
    "# reading in math and language datasets\n",
    "mat  = pd.read_csv('data/student-mat.csv', sep=';')\n",
    "lan = pd.read_csv('data/student-por.csv', sep=';')\n",
    "\n",
    "# adding column to distiguish subject\n",
    "mat['subject'] = 'Math'\n",
    "lan['subject'] = 'Language'\n",
    "\n",
    "#concatenating into one df\n",
    "df = pd.concat([mat,lan])\n",
    "\n",
    "#looking at first 5 rows\n",
    "df.head()"
   ]
  },
  {
   "cell_type": "code",
   "execution_count": 3,
   "metadata": {},
   "outputs": [
    {
     "data": {
      "text/plain": [
       "(1044, 34)"
      ]
     },
     "execution_count": 3,
     "metadata": {},
     "output_type": "execute_result"
    }
   ],
   "source": [
    "# checking rows and columns\n",
    "df.shape"
   ]
  },
  {
   "cell_type": "markdown",
   "metadata": {},
   "source": [
    "## Preprocessing"
   ]
  },
  {
   "cell_type": "code",
   "execution_count": 4,
   "metadata": {},
   "outputs": [
    {
     "name": "stdout",
     "output_type": "stream",
     "text": [
      "<class 'pandas.core.frame.DataFrame'>\n",
      "Int64Index: 1044 entries, 0 to 648\n",
      "Data columns (total 34 columns):\n",
      " #   Column      Non-Null Count  Dtype \n",
      "---  ------      --------------  ----- \n",
      " 0   school      1044 non-null   object\n",
      " 1   sex         1044 non-null   object\n",
      " 2   age         1044 non-null   int64 \n",
      " 3   address     1044 non-null   object\n",
      " 4   famsize     1044 non-null   object\n",
      " 5   Pstatus     1044 non-null   object\n",
      " 6   Medu        1044 non-null   int64 \n",
      " 7   Fedu        1044 non-null   int64 \n",
      " 8   Mjob        1044 non-null   object\n",
      " 9   Fjob        1044 non-null   object\n",
      " 10  reason      1044 non-null   object\n",
      " 11  guardian    1044 non-null   object\n",
      " 12  traveltime  1044 non-null   int64 \n",
      " 13  studytime   1044 non-null   int64 \n",
      " 14  failures    1044 non-null   int64 \n",
      " 15  schoolsup   1044 non-null   object\n",
      " 16  famsup      1044 non-null   object\n",
      " 17  paid        1044 non-null   object\n",
      " 18  activities  1044 non-null   object\n",
      " 19  nursery     1044 non-null   object\n",
      " 20  higher      1044 non-null   object\n",
      " 21  internet    1044 non-null   object\n",
      " 22  romantic    1044 non-null   object\n",
      " 23  famrel      1044 non-null   int64 \n",
      " 24  freetime    1044 non-null   int64 \n",
      " 25  goout       1044 non-null   int64 \n",
      " 26  Dalc        1044 non-null   int64 \n",
      " 27  Walc        1044 non-null   int64 \n",
      " 28  health      1044 non-null   int64 \n",
      " 29  absences    1044 non-null   int64 \n",
      " 30  G1          1044 non-null   int64 \n",
      " 31  G2          1044 non-null   int64 \n",
      " 32  G3          1044 non-null   int64 \n",
      " 33  subject     1044 non-null   object\n",
      "dtypes: int64(16), object(18)\n",
      "memory usage: 285.5+ KB\n"
     ]
    }
   ],
   "source": [
    "# Checking dtypes. Will need to change some numeric to str type\n",
    "df.info()"
   ]
  },
  {
   "cell_type": "code",
   "execution_count": 5,
   "metadata": {},
   "outputs": [
    {
     "data": {
      "text/plain": [
       "Index(['school', 'sex', 'age', 'address', 'famsize', 'Pstatus', 'Medu', 'Fedu',\n",
       "       'Mjob', 'Fjob', 'reason', 'guardian', 'traveltime', 'studytime',\n",
       "       'failures', 'schoolsup', 'famsup', 'paid', 'activities', 'nursery',\n",
       "       'higher', 'internet', 'romantic', 'famrel', 'freetime', 'goout', 'Dalc',\n",
       "       'Walc', 'health', 'absences', 'G1', 'G2', 'G3', 'subject'],\n",
       "      dtype='object')"
      ]
     },
     "execution_count": 5,
     "metadata": {},
     "output_type": "execute_result"
    }
   ],
   "source": [
    "df.columns"
   ]
  },
  {
   "cell_type": "code",
   "execution_count": 6,
   "metadata": {},
   "outputs": [],
   "source": [
    "### NUMERIC COLUMNS\n",
    "# 3 age - student's age (numeric: from 15 to 22)\n",
    "# 7 Medu - mother's education (numeric: 0 - none, 1 - primary education (4th grade), 2 â€“ 5th to 9th grade, 3 â€“ secondary education or 4 â€“ higher education)\n",
    "# 8 Fedu - father's education (numeric: 0 - none, 1 - primary education (4th grade), 2 â€“ 5th to 9th grade, 3 â€“ secondary education or 4 â€“ higher education)\n",
    "# 13 traveltime - home to school travel time (numeric: 1 - <15 min., 2 - 15 to 30 min., 3 - 30 min. to 1 hour, or 4 - >1 hour)\n",
    "# 14 studytime - weekly study time (numeric: 1 - <2 hours, 2 - 2 to 5 hours, 3 - 5 to 10 hours, or 4 - >10 hours)\n",
    "# 15 failures - number of past class failures (numeric: n if 1<=n<3, else 4)\n",
    "# 24 famrel - quality of family relationships (numeric: from 1 - very bad to 5 - excellent)\n",
    "# 25 freetime - free time after school (numeric: from 1 - very low to 5 - very high)\n",
    "# 26 goout - going out with friends (numeric: from 1 - very low to 5 - very high)\n",
    "# 27 Dalc - workday alcohol consumption (numeric: from 1 - very low to 5 - very high)\n",
    "# 28 Walc - weekend alcohol consumption (numeric: from 1 - very low to 5 - very high)\n",
    "# 29 health - current health status (numeric: from 1 - very bad to 5 - very good)\n",
    "# 30 absences - number of school absences (numeric: from 0 to 93)\n",
    "#### STRING COLUMNS\n",
    "# 1 school - student's school (binary: 'GP' - Gabriel Pereira or 'MS' - Mousinho da Silveira)\n",
    "# 2 sex - student's sex (binary: 'F' - female or 'M' - male)\n",
    "# 4 address - student's home address type (binary: 'U' - urban or 'R' - rural)\n",
    "# 5 famsize - family size (binary: 'LE3' - less or equal to 3 or 'GT3' - greater than 3)\n",
    "# 6 Pstatus - parent's cohabitation status (binary: 'T' - living together or 'A' - apart)\n",
    "# 9 Mjob - mother's job (nominal: 'teacher', 'health' care related, civil 'services' (e.g. administrative or police), 'at_home' or 'other')\n",
    "# 10 Fjob - father's job (nominal: 'teacher', 'health' care related, civil 'services' (e.g. administrative or police), 'at_home' or 'other')\n",
    "# 11 reason - reason to choose this school (nominal: close to 'home', school 'reputation', 'course' preference or 'other')\n",
    "# 12 guardian - student's guardian (nominal: 'mother', 'father' or 'other')\n",
    "# 16 schoolsup - extra educational support (binary: yes or no)\n",
    "# 17 famsup - family educational support (binary: yes or no)\n",
    "# 18 paid - extra paid classes within the course subject (Math or Portuguese) (binary: yes or no)\n",
    "# 19 activities - extra-curricular activities (binary: yes or no)\n",
    "# 20 nursery - attended nursery school (binary: yes or no)\n",
    "# 21 higher - wants to take higher education (binary: yes or no)\n",
    "# 22 internet - Internet access at home (binary: yes or no)\n",
    "# 23 romantic - with a romantic relationship (binary: yes or no)"
   ]
  },
  {
   "cell_type": "code",
   "execution_count": 7,
   "metadata": {},
   "outputs": [],
   "source": [
    "cols_to_convert = ['school','sex','address','famsize','Pstatus','Mjob','Fjob','reason','guardian','schoolsup',\n",
    "                   'famsup','paid','activities','nursery','higher','romantic','internet']"
   ]
  },
  {
   "cell_type": "code",
   "execution_count": 8,
   "metadata": {},
   "outputs": [],
   "source": [
    "for col in cols_to_convert:\n",
    "    df[col] = df [col].astype('str')"
   ]
  },
  {
   "cell_type": "code",
   "execution_count": 9,
   "metadata": {
    "scrolled": true
   },
   "outputs": [
    {
     "name": "stdout",
     "output_type": "stream",
     "text": [
      "<class 'pandas.core.frame.DataFrame'>\n",
      "Int64Index: 1044 entries, 0 to 648\n",
      "Data columns (total 34 columns):\n",
      " #   Column      Non-Null Count  Dtype \n",
      "---  ------      --------------  ----- \n",
      " 0   school      1044 non-null   object\n",
      " 1   sex         1044 non-null   object\n",
      " 2   age         1044 non-null   int64 \n",
      " 3   address     1044 non-null   object\n",
      " 4   famsize     1044 non-null   object\n",
      " 5   Pstatus     1044 non-null   object\n",
      " 6   Medu        1044 non-null   int64 \n",
      " 7   Fedu        1044 non-null   int64 \n",
      " 8   Mjob        1044 non-null   object\n",
      " 9   Fjob        1044 non-null   object\n",
      " 10  reason      1044 non-null   object\n",
      " 11  guardian    1044 non-null   object\n",
      " 12  traveltime  1044 non-null   int64 \n",
      " 13  studytime   1044 non-null   int64 \n",
      " 14  failures    1044 non-null   int64 \n",
      " 15  schoolsup   1044 non-null   object\n",
      " 16  famsup      1044 non-null   object\n",
      " 17  paid        1044 non-null   object\n",
      " 18  activities  1044 non-null   object\n",
      " 19  nursery     1044 non-null   object\n",
      " 20  higher      1044 non-null   object\n",
      " 21  internet    1044 non-null   object\n",
      " 22  romantic    1044 non-null   object\n",
      " 23  famrel      1044 non-null   int64 \n",
      " 24  freetime    1044 non-null   int64 \n",
      " 25  goout       1044 non-null   int64 \n",
      " 26  Dalc        1044 non-null   int64 \n",
      " 27  Walc        1044 non-null   int64 \n",
      " 28  health      1044 non-null   int64 \n",
      " 29  absences    1044 non-null   int64 \n",
      " 30  G1          1044 non-null   int64 \n",
      " 31  G2          1044 non-null   int64 \n",
      " 32  G3          1044 non-null   int64 \n",
      " 33  subject     1044 non-null   object\n",
      "dtypes: int64(16), object(18)\n",
      "memory usage: 285.5+ KB\n"
     ]
    }
   ],
   "source": [
    "df.info()"
   ]
  },
  {
   "cell_type": "code",
   "execution_count": 10,
   "metadata": {},
   "outputs": [],
   "source": [
    "#Changing outcome variable to be binary based on pass/fail status. < 60% or >= 60%\n",
    "def create_binary_outcome(x):\n",
    "    if x >= 12:\n",
    "        return 1 #Pass\n",
    "    else:\n",
    "        return 0 #Fail\n",
    "\n",
    "df['final_grade'] = df['G3'].apply(create_binary_outcome)"
   ]
  },
  {
   "cell_type": "code",
   "execution_count": 11,
   "metadata": {},
   "outputs": [
    {
     "name": "stdout",
     "output_type": "stream",
     "text": [
      "Class Distribution:\n",
      "Fail:  51.1%\n",
      "Pass:  48.9%\n"
     ]
    }
   ],
   "source": [
    "# looking at the distribution of the outcome variable (pass/fail). class is balanced\n",
    "balance = df.final_grade.value_counts(normalize=True)\n",
    "print('Class Distribution:\\nFail: ','{:0.1%}'.format(balance[0]))\n",
    "print('Pass: ','{:0.1%}'.format(balance[1]))"
   ]
  },
  {
   "cell_type": "code",
   "execution_count": 12,
   "metadata": {},
   "outputs": [],
   "source": [
    "# Dropping columns that are not of interest. We want this dataset to be generalized to multiple schools so don't need school type\n",
    "# also dropping mid period grades and absences / failures as this is too predictive & we want to predict for the beginning of the school year\n",
    "cols_to_drop = ['school','G1','G2','G3','failures','absences']\n",
    "df = df.drop(cols_to_drop, axis=1)"
   ]
  },
  {
   "cell_type": "code",
   "execution_count": 13,
   "metadata": {},
   "outputs": [],
   "source": [
    "# Transforming categorical variables into dummies. don't need to drop first as multicollinearity is not an issue\n",
    "df = pd.get_dummies(df)"
   ]
  },
  {
   "cell_type": "code",
   "execution_count": 14,
   "metadata": {},
   "outputs": [],
   "source": [
    "# Splitting data into Features and Target\n",
    "X = df.drop('final_grade',axis = 1)\n",
    "y = df['final_grade']"
   ]
  },
  {
   "cell_type": "code",
   "execution_count": 15,
   "metadata": {},
   "outputs": [],
   "source": [
    "# Train Test Split, running models on Training data to assess performance on Test Data\n",
    "X_train, X_test, y_train, y_test = train_test_split(X, y, test_size = 0.25)"
   ]
  },
  {
   "cell_type": "markdown",
   "metadata": {},
   "source": [
    "### Creating Function to evaluate models"
   ]
  },
  {
   "cell_type": "code",
   "execution_count": 16,
   "metadata": {},
   "outputs": [],
   "source": [
    "def model_eval(model,X_train,y_train,X_test,y_test,cm=False):\n",
    "    \n",
    "    y_hat_train = model.predict(X_train)\n",
    "    y_hat_test = model.predict(X_test)\n",
    "    \n",
    "    # Recall= Number of True Positives/ Number of Actual Total Positives\n",
    "    print('Recall - Out of all the students who failed, how many did our model correctly predict would fail?')\n",
    "    print('Training Recall: ', '{:0.3%}'.format(recall_score(y_train, y_hat_train)))\n",
    "    print('Testing Recall: ', '{:0.3%}'.format(recall_score(y_test, y_hat_test)))\n",
    "    # Accuracy= Number of True Positives + True Negatives / Total Observations\n",
    "    print('Accuracy - Out of all the predictions that were made, how many were correct?')\n",
    "    print('Training Accuracy: ', '{:0.3%}'.format(accuracy_score(y_train, y_hat_train)))\n",
    "    print('Testing Accuracy: ', '{:0.3%}'.format(accuracy_score(y_test, y_hat_test)))\n",
    "    \n",
    "    if cm == True:\n",
    "        plot_confusion_matrix(model, X_test, y_test, cmap=plt.cm.Greens)"
   ]
  },
  {
   "cell_type": "markdown",
   "metadata": {},
   "source": [
    "### Running First Model"
   ]
  },
  {
   "cell_type": "code",
   "execution_count": 17,
   "metadata": {
    "scrolled": false
   },
   "outputs": [
    {
     "name": "stderr",
     "output_type": "stream",
     "text": [
      "/opt/anaconda3/envs/learn-env/lib/python3.8/site-packages/sklearn/linear_model/_logistic.py:762: ConvergenceWarning: lbfgs failed to converge (status=1):\n",
      "STOP: TOTAL NO. of ITERATIONS REACHED LIMIT.\n",
      "\n",
      "Increase the number of iterations (max_iter) or scale the data as shown in:\n",
      "    https://scikit-learn.org/stable/modules/preprocessing.html\n",
      "Please also refer to the documentation for alternative solver options:\n",
      "    https://scikit-learn.org/stable/modules/linear_model.html#logistic-regression\n",
      "  n_iter_i = _check_optimize_result(\n"
     ]
    },
    {
     "name": "stdout",
     "output_type": "stream",
     "text": [
      "Recall - Out of all the students who failed, how many did our model correctly predict would fail?\n",
      "Training Recall:  71.507%\n",
      "Testing Recall:  62.069%\n",
      "Accuracy - Out of all the predictions that were made, how many were correct?\n",
      "Training Accuracy:  74.329502%\n",
      "Testing Accuracy:  65.134100%\n",
      "\n",
      "Decent accuracy from the start, We are getting a convergence warning so we need to scale our data.\n"
     ]
    },
    {
     "data": {
      "image/png": "[encoded data removed]",
      "text/plain": [
       "<Figure size 432x288 with 2 Axes>"
      ]
     },
     "metadata": {
      "needs_background": "light"
     },
     "output_type": "display_data"
    }
   ],
   "source": [
    "# Running First Model, Logistic Regression. Accounting for imbalance by calling class_weight\n",
    "logreg = LogisticRegression()\n",
    "model_1 = logreg.fit(X_train, y_train)\n",
    "\n",
    "model_eval(model_1,X_train,y_train,X_test,y_test, cm=True)\n",
    "\n",
    "print('''\\nDecent accuracy from the start, We are getting a convergence warning so we need to scale our data.''')"
   ]
  },
  {
   "cell_type": "code",
   "execution_count": 18,
   "metadata": {},
   "outputs": [],
   "source": [
    "# need to scale data that's why we are getting a convergence warning\n",
    "scaler = StandardScaler()\n",
    "X_train_s = scaler.fit_transform(X_train)\n",
    "X_test_s = scaler.transform(X_test)"
   ]
  },
  {
   "cell_type": "code",
   "execution_count": 19,
   "metadata": {},
   "outputs": [],
   "source": [
    "# fitting second model with scaled data\n",
    "model_2 = logreg.fit(X_train_s, y_train)"
   ]
  },
  {
   "cell_type": "code",
   "execution_count": 20,
   "metadata": {},
   "outputs": [
    {
     "name": "stdout",
     "output_type": "stream",
     "text": [
      "Recall - Out of all the students who failed, how many did our model correctly predict would fail?\n",
      "Training Recall:  71.507%\n",
      "Testing Recall:  61.379%\n",
      "Accuracy - Out of all the predictions that were made, how many were correct?\n",
      "Training Accuracy:  74.074074%\n",
      "Testing Accuracy:  64.750958%\n",
      "\n",
      "Accuracy increases slightly, right now testing accuracy is performing better than training! Perhaps we are underfitting?\n"
     ]
    }
   ],
   "source": [
    "# Evaluating model\n",
    "model_eval(model_2, X_train_s, y_train, X_test_s, y_test)\n",
    "print('''\\nAccuracy increases slightly, right now testing accuracy is performing better than training! Perhaps we are underfitting?''')"
   ]
  },
  {
   "cell_type": "code",
   "execution_count": 21,
   "metadata": {},
   "outputs": [
    {
     "data": {
      "text/plain": [
       "{'C': 1.0,\n",
       " 'class_weight': None,\n",
       " 'dual': False,\n",
       " 'fit_intercept': True,\n",
       " 'intercept_scaling': 1,\n",
       " 'l1_ratio': None,\n",
       " 'max_iter': 100,\n",
       " 'multi_class': 'auto',\n",
       " 'n_jobs': None,\n",
       " 'penalty': 'l2',\n",
       " 'random_state': None,\n",
       " 'solver': 'lbfgs',\n",
       " 'tol': 0.0001,\n",
       " 'verbose': 0,\n",
       " 'warm_start': False}"
      ]
     },
     "execution_count": 21,
     "metadata": {},
     "output_type": "execute_result"
    }
   ],
   "source": [
    "# Looks like the C value is 1.0 and solver is lbfgs, with an l2 penalty. Perhaps we can play around with these to improve the model\n",
    "model_2.get_params()"
   ]
  },
  {
   "cell_type": "code",
   "execution_count": 22,
   "metadata": {},
   "outputs": [
    {
     "name": "stdout",
     "output_type": "stream",
     "text": [
      "Recall - Out of all the students who failed, how many did our model correctly predict would fail?\n",
      "Training Recall:  71.507%\n",
      "Testing Recall:  61.379%\n",
      "Accuracy - Out of all the predictions that were made, how many were correct?\n",
      "Training Accuracy:  74.074074%\n",
      "Testing Accuracy:  64.750958%\n"
     ]
    }
   ],
   "source": [
    "# fitting second model with scaled data\n",
    "logreg_2 = LogisticRegression(solver = 'liblinear', C=1e5)\n",
    "model_3 = logreg_2.fit(X_train_s, y_train)\n",
    "\n",
    "model_eval(model_3,X_train_s,y_train,X_test_s,y_test)"
   ]
  },
  {
   "cell_type": "markdown",
   "metadata": {},
   "source": [
    "# Decision Tree"
   ]
  },
  {
   "cell_type": "code",
   "execution_count": 23,
   "metadata": {},
   "outputs": [],
   "source": [
    "# Checking if a Decision Tree can outperform Logistic Regression:\n",
    "dt_1 = DecisionTreeClassifier()\n",
    "model_dt1 = dt_1.fit(X_train, y_train)"
   ]
  },
  {
   "cell_type": "code",
   "execution_count": 24,
   "metadata": {},
   "outputs": [
    {
     "name": "stdout",
     "output_type": "stream",
     "text": [
      "Recall - Out of all the students who failed, how many did our model correctly predict would fail?\n",
      "Training Recall:  99.726%\n",
      "Testing Recall:  57.931%\n",
      "Accuracy - Out of all the predictions that were made, how many were correct?\n",
      "Training Accuracy:  99.872286%\n",
      "Testing Accuracy:  58.237548%\n",
      "\n",
      "Training models are performing exceptionally well while the testing is only at 60% accuracy. model is severly overfitting\n"
     ]
    },
    {
     "data": {
      "image/png": "[encoded data removed]",
      "text/plain": [
       "<Figure size 432x288 with 2 Axes>"
      ]
     },
     "metadata": {
      "needs_background": "light"
     },
     "output_type": "display_data"
    }
   ],
   "source": [
    "model_eval(model_dt1, X_train, y_train, X_test, y_test, cm = True)\n",
    "print('\\nTraining models are performing exceptionally well while the testing is only at 60% accuracy. model is severly overfitting')"
   ]
  },
  {
   "cell_type": "markdown",
   "metadata": {},
   "source": [
    "## --------------"
   ]
  },
  {
   "cell_type": "code",
   "execution_count": 25,
   "metadata": {},
   "outputs": [
    {
     "name": "stdout",
     "output_type": "stream",
     "text": [
      " this dataset has 54 columns, which may be the cause of overfitting. lets change the max features\n"
     ]
    }
   ],
   "source": [
    "print(''' this dataset has {} columns, which may be the cause of overfitting. lets change the max features'''.format(len(X.columns)))"
   ]
  },
  {
   "cell_type": "code",
   "execution_count": 26,
   "metadata": {},
   "outputs": [
    {
     "data": {
      "text/html": [
       "<div>\n",
       "<style scoped>\n",
       "    .dataframe tbody tr th:only-of-type {\n",
       "        vertical-align: middle;\n",
       "    }\n",
       "\n",
       "    .dataframe tbody tr th {\n",
       "        vertical-align: top;\n",
       "    }\n",
       "\n",
       "    .dataframe thead th {\n",
       "        text-align: right;\n",
       "    }\n",
       "</style>\n",
       "<table border=\"1\" class=\"dataframe\">\n",
       "  <thead>\n",
       "    <tr style=\"text-align: right;\">\n",
       "      <th></th>\n",
       "      <th>feature</th>\n",
       "      <th>value</th>\n",
       "    </tr>\n",
       "  </thead>\n",
       "  <tbody>\n",
       "    <tr>\n",
       "      <th>1</th>\n",
       "      <td>Medu</td>\n",
       "      <td>0.061563</td>\n",
       "    </tr>\n",
       "    <tr>\n",
       "      <th>47</th>\n",
       "      <td>higher_yes</td>\n",
       "      <td>0.053469</td>\n",
       "    </tr>\n",
       "    <tr>\n",
       "      <th>2</th>\n",
       "      <td>Fedu</td>\n",
       "      <td>0.050549</td>\n",
       "    </tr>\n",
       "    <tr>\n",
       "      <th>5</th>\n",
       "      <td>famrel</td>\n",
       "      <td>0.048624</td>\n",
       "    </tr>\n",
       "    <tr>\n",
       "      <th>3</th>\n",
       "      <td>traveltime</td>\n",
       "      <td>0.048049</td>\n",
       "    </tr>\n",
       "  </tbody>\n",
       "</table>\n",
       "</div>"
      ],
      "text/plain": [
       "       feature     value\n",
       "1         Medu  0.061563\n",
       "47  higher_yes  0.053469\n",
       "2         Fedu  0.050549\n",
       "5       famrel  0.048624\n",
       "3   traveltime  0.048049"
      ]
     },
     "execution_count": 26,
     "metadata": {},
     "output_type": "execute_result"
    }
   ],
   "source": [
    "# grabbing importance of features from previous model and turning to df\n",
    "feat_imp = pd.concat([pd.DataFrame(X_train.columns.values, columns = ['feature']),pd.DataFrame(model_dt1.feature_importances_, columns= ['value'])] ,axis = 1)\n",
    "feat_imp.sort_values(by='value',ascending=False, inplace=True)\n",
    "feat_imp.head()"
   ]
  },
  {
   "cell_type": "code",
   "execution_count": 27,
   "metadata": {},
   "outputs": [],
   "source": [
    "X_train2 = X_train[feat_imp.head(40).feature.to_list()]\n",
    "X_test2 = X_test[feat_imp.head(40).feature.to_list()]"
   ]
  },
  {
   "cell_type": "code",
   "execution_count": 28,
   "metadata": {},
   "outputs": [],
   "source": [
    "dt = DecisionTreeClassifier()\n",
    "model_dt2 = dt.fit(X_train2, y_train)"
   ]
  },
  {
   "cell_type": "code",
   "execution_count": 29,
   "metadata": {},
   "outputs": [
    {
     "name": "stdout",
     "output_type": "stream",
     "text": [
      "Recall - Out of all the students who failed, how many did our model correctly predict would fail?\n",
      "Training Recall:  99.726%\n",
      "Testing Recall:  57.241%\n",
      "Accuracy - Out of all the predictions that were made, how many were correct?\n",
      "Training Accuracy:  99.872286%\n",
      "Testing Accuracy:  58.237548%\n",
      "\n",
      "Test rates go up , but still need to do more\n"
     ]
    }
   ],
   "source": [
    "model_eval(model_dt2, X_train2, y_train, X_test2, y_test)\n",
    "print('\\nTest rates go up , but still need to do more')"
   ]
  },
  {
   "cell_type": "code",
   "execution_count": 30,
   "metadata": {},
   "outputs": [
    {
     "data": {
      "image/png": "[encoded data removed]",
      "text/plain": [
       "<Figure size 864x432 with 1 Axes>"
      ]
     },
     "metadata": {
      "needs_background": "light"
     },
     "output_type": "display_data"
    }
   ],
   "source": [
    "# Identify the optimal number of features for given data\n",
    "features = range(1,55)\n",
    "train_results = []\n",
    "test_results = []\n",
    "\n",
    "for feature in features:\n",
    "    X_train2 = X_train[feat_imp.head(feature).feature.to_list()]\n",
    "    X_test2 = X_test[feat_imp.head(feature).feature.to_list()]\n",
    "    \n",
    "    forest = RandomForestClassifier()\n",
    "    forest.fit(X_train2, y_train)\n",
    "    \n",
    "    y_hat_train = forest.predict(X_train2)\n",
    "    y_hat_test = forest.predict(X_test2)\n",
    "\n",
    "    train_acc = accuracy_score(y_train, y_hat_train)\n",
    "    test_acc = accuracy_score(y_test, y_hat_test)\n",
    "\n",
    "    train_results.append(train_acc)\n",
    "    test_results.append(test_acc)\n",
    "\n",
    "plt.figure(figsize=(12,6))\n",
    "plt.plot(features, train_results, label='Train Accuracy')\n",
    "plt.plot(features, test_results, label='Test Accuracy')\n",
    "plt.ylabel('Accuracy')\n",
    "plt.xlabel('Number of Features')\n",
    "plt.legend()\n",
    "plt.show()"
   ]
  },
  {
   "cell_type": "code",
   "execution_count": 31,
   "metadata": {},
   "outputs": [],
   "source": [
    "# dt_3 = DecisionTreeClassifier(min_samples_split = 0.8, max_depth = 1, min_samples_leaf= 0.2)\n",
    "# model_dt3 = dt_3.fit(X_train2, y_train)"
   ]
  },
  {
   "cell_type": "code",
   "execution_count": 32,
   "metadata": {},
   "outputs": [],
   "source": [
    "# model_eval(model_dt3, X_train2, y_train, X_test2, y_test)\n",
    "# DT's are very sensitive to outliersx"
   ]
  },
  {
   "cell_type": "markdown",
   "metadata": {},
   "source": [
    "# Building a more complex model - random forests"
   ]
  },
  {
   "cell_type": "code",
   "execution_count": 33,
   "metadata": {},
   "outputs": [
    {
     "name": "stdout",
     "output_type": "stream",
     "text": [
      "Recall - Out of all the students who failed, how many did our model correctly predict would fail?\n",
      "Training Recall:  100.000%\n",
      "Testing Recall:  67.586%\n",
      "Accuracy - Out of all the predictions that were made, how many were correct?\n",
      "Training Accuracy:  99.872286%\n",
      "Testing Accuracy:  68.199234%\n"
     ]
    }
   ],
   "source": [
    "# Instantiate and fit a RandomForestClassifier\n",
    "forest = RandomForestClassifier()\n",
    "model_rf = forest.fit(X_train2,y_train)\n",
    "\n",
    "# Evaluate\n",
    "model_eval(model_rf,X_train2,y_train,X_test2,y_test)"
   ]
  },
  {
   "cell_type": "code",
   "execution_count": null,
   "metadata": {},
   "outputs": [],
   "source": []
  },
  {
   "cell_type": "code",
   "execution_count": 34,
   "metadata": {},
   "outputs": [
    {
     "data": {
      "image/png": "[encoded data removed]",
      "text/plain": [
       "<Figure size 864x432 with 1 Axes>"
      ]
     },
     "metadata": {
      "needs_background": "light"
     },
     "output_type": "display_data"
    }
   ],
   "source": [
    "# Identify the optimal number of features for given data\n",
    "param = [x for x in range(1,10)]\n",
    "train_results = []\n",
    "test_results = []\n",
    "\n",
    "for param_subset in param:\n",
    "    forest = RandomForestClassifier(min_samples_leaf=param_subset)\n",
    "    forest.fit(X_train2, y_train)\n",
    "    \n",
    "    y_hat_train = forest.predict(X_train2)\n",
    "    y_hat_test = forest.predict(X_test2)\n",
    "\n",
    "    train_acc = accuracy_score(y_train, y_hat_train)\n",
    "    test_acc = accuracy_score(y_test, y_hat_test)\n",
    "\n",
    "    train_results.append(train_acc)\n",
    "    test_results.append(test_acc)\n",
    "\n",
    "plt.figure(figsize=(12,6))\n",
    "plt.plot(param, train_results, label='Train Accuracy')\n",
    "plt.plot(param, test_results, label='Test Accuracy')\n",
    "plt.ylabel('Accuracy')\n",
    "plt.xlabel('Param')\n",
    "plt.legend()\n",
    "plt.show()"
   ]
  },
  {
   "cell_type": "code",
   "execution_count": 35,
   "metadata": {},
   "outputs": [
    {
     "name": "stdout",
     "output_type": "stream",
     "text": [
      "Recall - Out of all the students who failed, how many did our model correctly predict would fail?\n",
      "Training Recall:  100.000%\n",
      "Testing Recall:  64.138%\n",
      "Accuracy - Out of all the predictions that were made, how many were correct?\n",
      "Training Accuracy:  99.872286%\n",
      "Testing Accuracy:  66.666667%\n"
     ]
    }
   ],
   "source": [
    "# Instantiate and fit a RandomForestClassifier\n",
    "forest_2 = RandomForestClassifier()\n",
    "model_rf2 = forest_2.fit(X_train2,y_train)\n",
    "\n",
    "model_eval(model_rf2,X_train2,y_train,X_test2,y_test)"
   ]
  },
  {
   "cell_type": "code",
   "execution_count": 36,
   "metadata": {},
   "outputs": [
    {
     "data": {
      "text/plain": [
       "DecisionTreeClassifier(max_features='auto', random_state=1091169493)"
      ]
     },
     "execution_count": 36,
     "metadata": {},
     "output_type": "execute_result"
    }
   ],
   "source": [
    "model_rf.estimators_[0] # checking the deeeeets on the first tree in the random forest"
   ]
  },
  {
   "cell_type": "markdown",
   "metadata": {},
   "source": [
    "# GRIDSEARCH"
   ]
  },
  {
   "cell_type": "code",
   "execution_count": 37,
   "metadata": {},
   "outputs": [],
   "source": [
    "#### new model"
   ]
  },
  {
   "cell_type": "code",
   "execution_count": 38,
   "metadata": {},
   "outputs": [
    {
     "data": {
      "text/plain": [
       "dict_keys(['bootstrap', 'ccp_alpha', 'class_weight', 'criterion', 'max_depth', 'max_features', 'max_leaf_nodes', 'max_samples', 'min_impurity_decrease', 'min_impurity_split', 'min_samples_leaf', 'min_samples_split', 'min_weight_fraction_leaf', 'n_estimators', 'n_jobs', 'oob_score', 'random_state', 'verbose', 'warm_start'])"
      ]
     },
     "execution_count": 38,
     "metadata": {},
     "output_type": "execute_result"
    }
   ],
   "source": [
    "forest.get_params().keys()"
   ]
  },
  {
   "cell_type": "code",
   "execution_count": 39,
   "metadata": {},
   "outputs": [],
   "source": [
    "rf_param_grid = {\n",
    "    'criterion':['gini','entropy'],\n",
    "    'max_depth':[None],\n",
    "    'min_samples_split':[0.1,0.2,0.3,0.8,0.9],\n",
    "    'min_samples_leaf':[0.1,0.2,0.3,0.4,0.5]\n",
    "                }"
   ]
  },
  {
   "cell_type": "code",
   "execution_count": 40,
   "metadata": {},
   "outputs": [
    {
     "data": {
      "text/plain": [
       "GridSearchCV(estimator=RandomForestClassifier(),\n",
       "             param_grid={'criterion': ['gini', 'entropy'], 'max_depth': [None],\n",
       "                         'min_samples_leaf': [0.1, 0.2, 0.3, 0.4, 0.5],\n",
       "                         'min_samples_split': [0.1, 0.2, 0.3, 0.8, 0.9]},\n",
       "             scoring='accuracy')"
      ]
     },
     "execution_count": 40,
     "metadata": {},
     "output_type": "execute_result"
    }
   ],
   "source": [
    "# Instantiate GridSearchCV\n",
    "model_cv = GridSearchCV(model_rf, rf_param_grid, scoring='accuracy')\n",
    "\n",
    "# Fit to the data\n",
    "model_cv.fit(X_train2, y_train)"
   ]
  },
  {
   "cell_type": "code",
   "execution_count": 41,
   "metadata": {},
   "outputs": [
    {
     "data": {
      "text/plain": [
       "{'criterion': 'gini',\n",
       " 'max_depth': None,\n",
       " 'min_samples_leaf': 0.1,\n",
       " 'min_samples_split': 0.2}"
      ]
     },
     "execution_count": 41,
     "metadata": {},
     "output_type": "execute_result"
    }
   ],
   "source": [
    "model_cv.best_params_"
   ]
  },
  {
   "cell_type": "code",
   "execution_count": 42,
   "metadata": {},
   "outputs": [
    {
     "name": "stdout",
     "output_type": "stream",
     "text": [
      "Recall - Out of all the students who failed, how many did our model correctly predict would fail?\n",
      "Training Recall:  46.027%\n",
      "Testing Recall:  48.276%\n",
      "Accuracy - Out of all the predictions that were made, how many were correct?\n",
      "Training Accuracy:  66.538953%\n",
      "Testing Accuracy:  63.218391%\n"
     ]
    }
   ],
   "source": [
    "model_eval(model_cv,X_train2,y_train,X_test2,y_test)"
   ]
  },
  {
   "cell_type": "code",
   "execution_count": 43,
   "metadata": {},
   "outputs": [
    {
     "name": "stdout",
     "output_type": "stream",
     "text": [
      "\n",
      "The parameter tuning using GridSearchCV improved our model's performance by over 20%, from ~44% to ~66%. The model also shows no signs of overfitting, as evidenced \n",
      "by the close training and testing scores. Grid Search does not gaurantee that we will always find the globally optimal combination of parameter values. Since \n",
      "it only exhaustively searches through the parameter values we provide, not every possible combination of every possible value for each parameter is tested. This means \n",
      "that the model is only as good as the possible combinations of the parameters we include in our parameter grid.\n",
      "\n"
     ]
    }
   ],
   "source": [
    "print(\"\"\"\n",
    "The parameter tuning using GridSearchCV improved our model's performance by over 20%, from ~44% to ~66%. The model also shows no signs of overfitting, as evidenced \n",
    "by the close training and testing scores. Grid Search does not gaurantee that we will always find the globally optimal combination of parameter values. Since \n",
    "it only exhaustively searches through the parameter values we provide, not every possible combination of every possible value for each parameter is tested. This means \n",
    "that the model is only as good as the possible combinations of the parameters we include in our parameter grid.\n",
    "\"\"\")"
   ]
  },
  {
   "cell_type": "code",
   "execution_count": 44,
   "metadata": {},
   "outputs": [
    {
     "name": "stdout",
     "output_type": "stream",
     "text": [
      "Recall - Out of all the students who failed, how many did our model correctly predict would fail?\n",
      "Training Recall:  71.507%\n",
      "Testing Recall:  61.379%\n",
      "Accuracy - Out of all the predictions that were made, how many were correct?\n",
      "Training Accuracy:  74.074074%\n",
      "Testing Accuracy:  64.750958%\n"
     ]
    }
   ],
   "source": [
    "# When tackling overfitting, the model's accuracy falls to below our logistic regression model (model 1). lets go back to that and tune.\n",
    "model_eval(model_2, X_train_s, y_train, X_test_s, y_test)"
   ]
  },
  {
   "cell_type": "code",
   "execution_count": 45,
   "metadata": {},
   "outputs": [
    {
     "data": {
      "text/plain": [
       "dict_keys(['C', 'class_weight', 'dual', 'fit_intercept', 'intercept_scaling', 'l1_ratio', 'max_iter', 'multi_class', 'n_jobs', 'penalty', 'random_state', 'solver', 'tol', 'verbose', 'warm_start'])"
      ]
     },
     "execution_count": 45,
     "metadata": {},
     "output_type": "execute_result"
    }
   ],
   "source": [
    "model_2.get_params().keys()"
   ]
  },
  {
   "cell_type": "code",
   "execution_count": 46,
   "metadata": {},
   "outputs": [],
   "source": [
    "log_param_grid = {\n",
    "    'C':[1,1e3,1e4],\n",
    "    'fit_intercept':[True,False],\n",
    "#     'penalty':['l1', 'l2', 'elasticnet', 'none'],\n",
    "    'solver':['newton-cg', 'lbfgs', 'liblinear', 'sag', 'saga']\n",
    "                }"
   ]
  },
  {
   "cell_type": "code",
   "execution_count": 47,
   "metadata": {},
   "outputs": [
    {
     "data": {
      "text/plain": [
       "GridSearchCV(estimator=LogisticRegression(),\n",
       "             param_grid={'C': [1, 1000.0, 10000.0],\n",
       "                         'fit_intercept': [True, False],\n",
       "                         'solver': ['newton-cg', 'lbfgs', 'liblinear', 'sag',\n",
       "                                    'saga']},\n",
       "             scoring='accuracy')"
      ]
     },
     "execution_count": 47,
     "metadata": {},
     "output_type": "execute_result"
    }
   ],
   "source": [
    "# Instantiate GridSearchCV\n",
    "log_cv = GridSearchCV(model_2, log_param_grid, scoring='accuracy')\n",
    "\n",
    "# Fit to the data\n",
    "log_cv.fit(X_train_s, y_train)"
   ]
  },
  {
   "cell_type": "code",
   "execution_count": 48,
   "metadata": {},
   "outputs": [
    {
     "data": {
      "text/plain": [
       "{'C': 1, 'fit_intercept': True, 'solver': 'newton-cg'}"
      ]
     },
     "execution_count": 48,
     "metadata": {},
     "output_type": "execute_result"
    }
   ],
   "source": [
    "log_cv.best_params_"
   ]
  },
  {
   "cell_type": "code",
   "execution_count": 49,
   "metadata": {},
   "outputs": [
    {
     "name": "stdout",
     "output_type": "stream",
     "text": [
      "Recall - Out of all the students who failed, how many did our model correctly predict would fail?\n",
      "Training Recall:  71.507%\n",
      "Testing Recall:  61.379%\n",
      "Accuracy - Out of all the predictions that were made, how many were correct?\n",
      "Training Accuracy:  74.074074%\n",
      "Testing Accuracy:  64.750958%\n"
     ]
    }
   ],
   "source": [
    "## this is the sameeeee result\n",
    "model_eval(log_cv,X_train_s,y_train,X_test_s,y_test)"
   ]
  },
  {
   "cell_type": "code",
   "execution_count": 50,
   "metadata": {},
   "outputs": [],
   "source": [
    "test = LogisticRegression(C=1000,fit_intercept=True, solver='newton-cg')\n",
    "test.fit(X_train_s, y_train)\n",
    "\n",
    "yhattrain = test.predict(X_train_s)\n",
    "yhattest = test.predict(X_test_s)"
   ]
  },
  {
   "cell_type": "code",
   "execution_count": 51,
   "metadata": {},
   "outputs": [
    {
     "name": "stdout",
     "output_type": "stream",
     "text": [
      "Recall - Out of all the students who failed, how many did our model correctly predict would fail?\n",
      "Training Recall:  100.000%\n",
      "Testing Recall:  100.000%\n",
      "Accuracy - Out of all the predictions that were made, how many were correct?\n",
      "Training Accuracy:  100.000000%\n",
      "Testing Accuracy:  100.000000%\n"
     ]
    }
   ],
   "source": [
    "model_eval(test,X_train_s,yhattrain,X_test_s,yhattest)"
   ]
  },
  {
   "cell_type": "code",
   "execution_count": null,
   "metadata": {},
   "outputs": [],
   "source": []
  }
 ],
 "metadata": {
  "kernelspec": {
   "display_name": "Python 3",
   "language": "python",
   "name": "python3"
  },
  "language_info": {
   "codemirror_mode": {
    "name": "ipython",
    "version": 3
   },
   "file_extension": ".py",
   "mimetype": "text/x-python",
   "name": "python",
   "nbconvert_exporter": "python",
   "pygments_lexer": "ipython3",
   "version": "3.8.5"
  }
 },
 "nbformat": 4,
 "nbformat_minor": 4
}
