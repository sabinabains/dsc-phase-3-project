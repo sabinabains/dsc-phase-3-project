{
 "cells": [
  {
   "cell_type": "markdown",
   "metadata": {},
   "source": [
    "# Final Project Submission"
   ]
  },
  {
   "cell_type": "markdown",
   "metadata": {},
   "source": [
    "* Student name: Sabina Bains\n",
    "* Student pace: Self Paced\n",
    "* Scheduled project review date / time: 3/28/2022 @ 12 pm PCT\n",
    "* Instructor name: Claude Fried"
   ]
  },
  {
   "cell_type": "markdown",
   "metadata": {},
   "source": [
    "## Business Understanding"
   ]
  },
  {
   "cell_type": "markdown",
   "metadata": {},
   "source": [
    "A volunteer organization in New York City called *Rising Teens* wants to help high school students find success in the classroom. *Rising Teens* plans to work with struggling school districts in the area to provide tutoring for high school children they believe need additional support to pass their classes, however tutors are limited, and the organization is unsure how to predict which students will need support the most.\n",
    "\n",
    "Our suggestion is to use a supervised learning approach to predict students that are at risk to fail their courses, specifically with classification models. Portugal has obtained data on demographic and social characteristics of students in multiple high schools in the area, along with their final course grade. By training our model on this data, we can predict which students are likely to fail their courses based on the attributes given. Lastly, school districts can distribute surveys to collect this data at the beginning of the school year, and we can predict whether each student should be assigned a tutor based on their pass/fail classification. A pass grade is defined as a 60% (D) or higher for these districts.\n",
    "\n",
    "As more data is gathered, our model can improve further and potentially be used at a national level to provide schools with the ability to help students in need of support. \n",
    "\n",
    "\n",
    "(data source: https://www.kaggle.com/impapan/student-performance-data-set)"
   ]
  },
  {
   "cell_type": "markdown",
   "metadata": {},
   "source": [
    "## Data Understanding"
   ]
  },
  {
   "cell_type": "markdown",
   "metadata": {},
   "source": [
    "##### Reading in necessary packages"
   ]
  },
  {
   "cell_type": "code",
   "execution_count": 1,
   "metadata": {},
   "outputs": [],
   "source": [
    "# Importing neccessary packages\n",
    "import pandas as pd\n",
    "import numpy as np\n",
    "import matplotlib.pyplot as plt\n",
    "from sklearn.model_selection import train_test_split, GridSearchCV\n",
    "from sklearn.linear_model import LogisticRegression\n",
    "from sklearn.metrics import confusion_matrix, classification_report\n",
    "from sklearn.metrics import plot_confusion_matrix\n",
    "from sklearn.metrics import precision_score, recall_score, accuracy_score, f1_score\n",
    "from sklearn.preprocessing import StandardScaler\n",
    "from sklearn.tree import DecisionTreeClassifier \n",
    "from sklearn.metrics import roc_curve, auc\n",
    "from sklearn import tree\n",
    "from sklearn.ensemble import BaggingClassifier, RandomForestClassifier\n",
    "from matplotlib import style\n",
    "from sklearn.neighbors import KNeighborsClassifier\n",
    "import seaborn as sns\n",
    "\n",
    "style.use('dark_background')\n",
    "pd.set_option(\"display.max_columns\", 100)"
   ]
  },
  {
   "cell_type": "markdown",
   "metadata": {},
   "source": [
    "##### Reading in datasets, understanding data"
   ]
  },
  {
   "cell_type": "code",
   "execution_count": 2,
   "metadata": {},
   "outputs": [
    {
     "name": "stdout",
     "output_type": "stream",
     "text": [
      "Interesting columns to work with. We have basic information such as gender, age and location, but additionally have information on parents' education and\n",
      "careers, student's basic aspirations and interests, as well as time spent doing various activities. Lastly, we have the final grade of that student.\n"
     ]
    },
    {
     "data": {
      "text/html": [
       "<div>\n",
       "<style scoped>\n",
       "    .dataframe tbody tr th:only-of-type {\n",
       "        vertical-align: middle;\n",
       "    }\n",
       "\n",
       "    .dataframe tbody tr th {\n",
       "        vertical-align: top;\n",
       "    }\n",
       "\n",
       "    .dataframe thead th {\n",
       "        text-align: right;\n",
       "    }\n",
       "</style>\n",
       "<table border=\"1\" class=\"dataframe\">\n",
       "  <thead>\n",
       "    <tr style=\"text-align: right;\">\n",
       "      <th></th>\n",
       "      <th>school</th>\n",
       "      <th>sex</th>\n",
       "      <th>age</th>\n",
       "      <th>address</th>\n",
       "      <th>famsize</th>\n",
       "      <th>Pstatus</th>\n",
       "      <th>Medu</th>\n",
       "      <th>Fedu</th>\n",
       "      <th>Mjob</th>\n",
       "      <th>Fjob</th>\n",
       "      <th>reason</th>\n",
       "      <th>guardian</th>\n",
       "      <th>traveltime</th>\n",
       "      <th>studytime</th>\n",
       "      <th>failures</th>\n",
       "      <th>schoolsup</th>\n",
       "      <th>famsup</th>\n",
       "      <th>paid</th>\n",
       "      <th>activities</th>\n",
       "      <th>nursery</th>\n",
       "      <th>higher</th>\n",
       "      <th>internet</th>\n",
       "      <th>romantic</th>\n",
       "      <th>famrel</th>\n",
       "      <th>freetime</th>\n",
       "      <th>goout</th>\n",
       "      <th>Dalc</th>\n",
       "      <th>Walc</th>\n",
       "      <th>health</th>\n",
       "      <th>absences</th>\n",
       "      <th>G1</th>\n",
       "      <th>G2</th>\n",
       "      <th>G3</th>\n",
       "      <th>subject</th>\n",
       "    </tr>\n",
       "  </thead>\n",
       "  <tbody>\n",
       "    <tr>\n",
       "      <th>0</th>\n",
       "      <td>GP</td>\n",
       "      <td>F</td>\n",
       "      <td>18</td>\n",
       "      <td>U</td>\n",
       "      <td>GT3</td>\n",
       "      <td>A</td>\n",
       "      <td>4</td>\n",
       "      <td>4</td>\n",
       "      <td>at_home</td>\n",
       "      <td>teacher</td>\n",
       "      <td>course</td>\n",
       "      <td>mother</td>\n",
       "      <td>2</td>\n",
       "      <td>2</td>\n",
       "      <td>0</td>\n",
       "      <td>yes</td>\n",
       "      <td>no</td>\n",
       "      <td>no</td>\n",
       "      <td>no</td>\n",
       "      <td>yes</td>\n",
       "      <td>yes</td>\n",
       "      <td>no</td>\n",
       "      <td>no</td>\n",
       "      <td>4</td>\n",
       "      <td>3</td>\n",
       "      <td>4</td>\n",
       "      <td>1</td>\n",
       "      <td>1</td>\n",
       "      <td>3</td>\n",
       "      <td>6</td>\n",
       "      <td>5</td>\n",
       "      <td>6</td>\n",
       "      <td>6</td>\n",
       "      <td>Math</td>\n",
       "    </tr>\n",
       "    <tr>\n",
       "      <th>1</th>\n",
       "      <td>GP</td>\n",
       "      <td>F</td>\n",
       "      <td>17</td>\n",
       "      <td>U</td>\n",
       "      <td>GT3</td>\n",
       "      <td>T</td>\n",
       "      <td>1</td>\n",
       "      <td>1</td>\n",
       "      <td>at_home</td>\n",
       "      <td>other</td>\n",
       "      <td>course</td>\n",
       "      <td>father</td>\n",
       "      <td>1</td>\n",
       "      <td>2</td>\n",
       "      <td>0</td>\n",
       "      <td>no</td>\n",
       "      <td>yes</td>\n",
       "      <td>no</td>\n",
       "      <td>no</td>\n",
       "      <td>no</td>\n",
       "      <td>yes</td>\n",
       "      <td>yes</td>\n",
       "      <td>no</td>\n",
       "      <td>5</td>\n",
       "      <td>3</td>\n",
       "      <td>3</td>\n",
       "      <td>1</td>\n",
       "      <td>1</td>\n",
       "      <td>3</td>\n",
       "      <td>4</td>\n",
       "      <td>5</td>\n",
       "      <td>5</td>\n",
       "      <td>6</td>\n",
       "      <td>Math</td>\n",
       "    </tr>\n",
       "    <tr>\n",
       "      <th>2</th>\n",
       "      <td>GP</td>\n",
       "      <td>F</td>\n",
       "      <td>15</td>\n",
       "      <td>U</td>\n",
       "      <td>LE3</td>\n",
       "      <td>T</td>\n",
       "      <td>1</td>\n",
       "      <td>1</td>\n",
       "      <td>at_home</td>\n",
       "      <td>other</td>\n",
       "      <td>other</td>\n",
       "      <td>mother</td>\n",
       "      <td>1</td>\n",
       "      <td>2</td>\n",
       "      <td>3</td>\n",
       "      <td>yes</td>\n",
       "      <td>no</td>\n",
       "      <td>yes</td>\n",
       "      <td>no</td>\n",
       "      <td>yes</td>\n",
       "      <td>yes</td>\n",
       "      <td>yes</td>\n",
       "      <td>no</td>\n",
       "      <td>4</td>\n",
       "      <td>3</td>\n",
       "      <td>2</td>\n",
       "      <td>2</td>\n",
       "      <td>3</td>\n",
       "      <td>3</td>\n",
       "      <td>10</td>\n",
       "      <td>7</td>\n",
       "      <td>8</td>\n",
       "      <td>10</td>\n",
       "      <td>Math</td>\n",
       "    </tr>\n",
       "    <tr>\n",
       "      <th>3</th>\n",
       "      <td>GP</td>\n",
       "      <td>F</td>\n",
       "      <td>15</td>\n",
       "      <td>U</td>\n",
       "      <td>GT3</td>\n",
       "      <td>T</td>\n",
       "      <td>4</td>\n",
       "      <td>2</td>\n",
       "      <td>health</td>\n",
       "      <td>services</td>\n",
       "      <td>home</td>\n",
       "      <td>mother</td>\n",
       "      <td>1</td>\n",
       "      <td>3</td>\n",
       "      <td>0</td>\n",
       "      <td>no</td>\n",
       "      <td>yes</td>\n",
       "      <td>yes</td>\n",
       "      <td>yes</td>\n",
       "      <td>yes</td>\n",
       "      <td>yes</td>\n",
       "      <td>yes</td>\n",
       "      <td>yes</td>\n",
       "      <td>3</td>\n",
       "      <td>2</td>\n",
       "      <td>2</td>\n",
       "      <td>1</td>\n",
       "      <td>1</td>\n",
       "      <td>5</td>\n",
       "      <td>2</td>\n",
       "      <td>15</td>\n",
       "      <td>14</td>\n",
       "      <td>15</td>\n",
       "      <td>Math</td>\n",
       "    </tr>\n",
       "    <tr>\n",
       "      <th>4</th>\n",
       "      <td>GP</td>\n",
       "      <td>F</td>\n",
       "      <td>16</td>\n",
       "      <td>U</td>\n",
       "      <td>GT3</td>\n",
       "      <td>T</td>\n",
       "      <td>3</td>\n",
       "      <td>3</td>\n",
       "      <td>other</td>\n",
       "      <td>other</td>\n",
       "      <td>home</td>\n",
       "      <td>father</td>\n",
       "      <td>1</td>\n",
       "      <td>2</td>\n",
       "      <td>0</td>\n",
       "      <td>no</td>\n",
       "      <td>yes</td>\n",
       "      <td>yes</td>\n",
       "      <td>no</td>\n",
       "      <td>yes</td>\n",
       "      <td>yes</td>\n",
       "      <td>no</td>\n",
       "      <td>no</td>\n",
       "      <td>4</td>\n",
       "      <td>3</td>\n",
       "      <td>2</td>\n",
       "      <td>1</td>\n",
       "      <td>2</td>\n",
       "      <td>5</td>\n",
       "      <td>4</td>\n",
       "      <td>6</td>\n",
       "      <td>10</td>\n",
       "      <td>10</td>\n",
       "      <td>Math</td>\n",
       "    </tr>\n",
       "  </tbody>\n",
       "</table>\n",
       "</div>"
      ],
      "text/plain": [
       "  school sex  age address famsize Pstatus  Medu  Fedu     Mjob      Fjob  \\\n",
       "0     GP   F   18       U     GT3       A     4     4  at_home   teacher   \n",
       "1     GP   F   17       U     GT3       T     1     1  at_home     other   \n",
       "2     GP   F   15       U     LE3       T     1     1  at_home     other   \n",
       "3     GP   F   15       U     GT3       T     4     2   health  services   \n",
       "4     GP   F   16       U     GT3       T     3     3    other     other   \n",
       "\n",
       "   reason guardian  traveltime  studytime  failures schoolsup famsup paid  \\\n",
       "0  course   mother           2          2         0       yes     no   no   \n",
       "1  course   father           1          2         0        no    yes   no   \n",
       "2   other   mother           1          2         3       yes     no  yes   \n",
       "3    home   mother           1          3         0        no    yes  yes   \n",
       "4    home   father           1          2         0        no    yes  yes   \n",
       "\n",
       "  activities nursery higher internet romantic  famrel  freetime  goout  Dalc  \\\n",
       "0         no     yes    yes       no       no       4         3      4     1   \n",
       "1         no      no    yes      yes       no       5         3      3     1   \n",
       "2         no     yes    yes      yes       no       4         3      2     2   \n",
       "3        yes     yes    yes      yes      yes       3         2      2     1   \n",
       "4         no     yes    yes       no       no       4         3      2     1   \n",
       "\n",
       "   Walc  health  absences  G1  G2  G3 subject  \n",
       "0     1       3         6   5   6   6    Math  \n",
       "1     1       3         4   5   5   6    Math  \n",
       "2     3       3        10   7   8  10    Math  \n",
       "3     1       5         2  15  14  15    Math  \n",
       "4     2       5         4   6  10  10    Math  "
      ]
     },
     "execution_count": 2,
     "metadata": {},
     "output_type": "execute_result"
    }
   ],
   "source": [
    "# reading in math and language datasets\n",
    "mat  = pd.read_csv('data/student-mat.csv', sep=';')\n",
    "lan = pd.read_csv('data/student-por.csv', sep=';')\n",
    "\n",
    "# adding column to distiguish subject\n",
    "mat['subject'] = 'Math'\n",
    "lan['subject'] = 'Language'\n",
    "\n",
    "#concatenating into one df\n",
    "df = pd.concat([mat,lan])\n",
    "\n",
    "#looking at first 5 rows\n",
    "print('''Interesting columns to work with. We have basic information such as gender, age and location, but additionally have information on parents' education and\n",
    "careers, student's basic aspirations and interests, as well as time spent doing various activities. Lastly, we have the final grade of that student.''')\n",
    "df.head()"
   ]
  },
  {
   "cell_type": "code",
   "execution_count": 3,
   "metadata": {},
   "outputs": [
    {
     "data": {
      "text/plain": [
       "(1044, 34)"
      ]
     },
     "execution_count": 3,
     "metadata": {},
     "output_type": "execute_result"
    }
   ],
   "source": [
    "# checking rows and columns. required number of rows and columns are satisfied\n",
    "df.shape"
   ]
  },
  {
   "cell_type": "code",
   "execution_count": 4,
   "metadata": {},
   "outputs": [
    {
     "data": {
      "text/plain": [
       "(array([ 54.,   0.,   9.,  37., 130., 304., 216., 172.,  87.,  35.]),\n",
       " array([ 0.,  2.,  4.,  6.,  8., 10., 12., 14., 16., 18., 20.]),\n",
       " <BarContainer object of 10 artists>)"
      ]
     },
     "execution_count": 4,
     "metadata": {},
     "output_type": "execute_result"
    },
    {
     "data": {
      "image/png": "[encoded data removed]",
      "text/plain": [
       "<Figure size 432x288 with 1 Axes>"
      ]
     },
     "metadata": {},
     "output_type": "display_data"
    }
   ],
   "source": [
    "# looking at distribution of final grades, we will use this as our outcome variable and recode it to be binary based on whether the student passes / fails. \n",
    "plt.hist(df.G3)"
   ]
  },
  {
   "cell_type": "code",
   "execution_count": 5,
   "metadata": {},
   "outputs": [
    {
     "data": {
      "image/png": "[encoded data removed]",
      "text/plain": [
       "<Figure size 1800x360 with 1 Axes>"
      ]
     },
     "metadata": {},
     "output_type": "display_data"
    }
   ],
   "source": [
    "# Taking a look at spread for each numeric column.  looks like absences are very positively skewed\n",
    "# will potentially need to scale data\n",
    "plt.figure(figsize=(25, 5))\n",
    "plt.boxplot([df[col] for col in df.columns if df[col].dtype != 'O'])\n",
    "plt.title(\"Box plot of all columns in dataset\")\n",
    "plt.xticks(range(1,17), [col for col in df.columns if df[col].dtype != 'O'])\n",
    "plt.show()"
   ]
  },
  {
   "cell_type": "markdown",
   "metadata": {},
   "source": [
    "## Preprocessing"
   ]
  },
  {
   "cell_type": "markdown",
   "metadata": {},
   "source": [
    "##### Checking dtypes. will need to change some numeric data to string. No missing data"
   ]
  },
  {
   "cell_type": "code",
   "execution_count": 6,
   "metadata": {},
   "outputs": [
    {
     "name": "stdout",
     "output_type": "stream",
     "text": [
      "<class 'pandas.core.frame.DataFrame'>\n",
      "Int64Index: 1044 entries, 0 to 648\n",
      "Data columns (total 34 columns):\n",
      " #   Column      Non-Null Count  Dtype \n",
      "---  ------      --------------  ----- \n",
      " 0   school      1044 non-null   object\n",
      " 1   sex         1044 non-null   object\n",
      " 2   age         1044 non-null   int64 \n",
      " 3   address     1044 non-null   object\n",
      " 4   famsize     1044 non-null   object\n",
      " 5   Pstatus     1044 non-null   object\n",
      " 6   Medu        1044 non-null   int64 \n",
      " 7   Fedu        1044 non-null   int64 \n",
      " 8   Mjob        1044 non-null   object\n",
      " 9   Fjob        1044 non-null   object\n",
      " 10  reason      1044 non-null   object\n",
      " 11  guardian    1044 non-null   object\n",
      " 12  traveltime  1044 non-null   int64 \n",
      " 13  studytime   1044 non-null   int64 \n",
      " 14  failures    1044 non-null   int64 \n",
      " 15  schoolsup   1044 non-null   object\n",
      " 16  famsup      1044 non-null   object\n",
      " 17  paid        1044 non-null   object\n",
      " 18  activities  1044 non-null   object\n",
      " 19  nursery     1044 non-null   object\n",
      " 20  higher      1044 non-null   object\n",
      " 21  internet    1044 non-null   object\n",
      " 22  romantic    1044 non-null   object\n",
      " 23  famrel      1044 non-null   int64 \n",
      " 24  freetime    1044 non-null   int64 \n",
      " 25  goout       1044 non-null   int64 \n",
      " 26  Dalc        1044 non-null   int64 \n",
      " 27  Walc        1044 non-null   int64 \n",
      " 28  health      1044 non-null   int64 \n",
      " 29  absences    1044 non-null   int64 \n",
      " 30  G1          1044 non-null   int64 \n",
      " 31  G2          1044 non-null   int64 \n",
      " 32  G3          1044 non-null   int64 \n",
      " 33  subject     1044 non-null   object\n",
      "dtypes: int64(16), object(18)\n",
      "memory usage: 285.5+ KB\n"
     ]
    }
   ],
   "source": [
    "# Checking dtypes. Have a good mix of numeric and categorical data to work with. Will need to change some numeric to str type.\n",
    "df.info()"
   ]
  },
  {
   "cell_type": "code",
   "execution_count": 7,
   "metadata": {},
   "outputs": [],
   "source": [
    "# creating a list of columns to convert from numeric to string\n",
    "cols_to_convert = ['school','sex','address','famsize','Pstatus','Mjob','Fjob','reason','guardian','schoolsup',\n",
    "                   'famsup','paid','activities','nursery','higher','romantic','internet']"
   ]
  },
  {
   "cell_type": "code",
   "execution_count": 8,
   "metadata": {},
   "outputs": [],
   "source": [
    "# Looping through columns that we need to convert to string (as listed above)\n",
    "for col in cols_to_convert:\n",
    "    df[col] = df [col].astype('str')"
   ]
  },
  {
   "cell_type": "code",
   "execution_count": 9,
   "metadata": {},
   "outputs": [],
   "source": [
    "# Creating function to change outcome variable to be binary based on pass/fail status. < 60% or >= 60%\n",
    "def create_binary_outcome(x):\n",
    "    if x < 12:\n",
    "        return 1 #Fail\n",
    "    else:\n",
    "        return 0 #Pass\n",
    "\n",
    "# applying function to outcome column\n",
    "df['final_grade'] = df['G3'].apply(create_binary_outcome)"
   ]
  },
  {
   "cell_type": "markdown",
   "metadata": {},
   "source": [
    "##### Looking at distribution of outcome variable"
   ]
  },
  {
   "cell_type": "code",
   "execution_count": 10,
   "metadata": {},
   "outputs": [
    {
     "name": "stdout",
     "output_type": "stream",
     "text": [
      "Class Distribution:\n",
      "Pass (0):  48.9%\n",
      "Fail (1):  51.1%\n"
     ]
    }
   ],
   "source": [
    "# looking at the distribution of the outcome variable (pass/fail). class is balanced\n",
    "balance = df.final_grade.value_counts(normalize=True)\n",
    "print('Class Distribution:\\nPass (0): ','{:0.1%}'.format(balance[0]))\n",
    "print('Fail (1): ','{:0.1%}'.format(balance[1]))"
   ]
  },
  {
   "cell_type": "code",
   "execution_count": 11,
   "metadata": {},
   "outputs": [],
   "source": [
    "# Dropping columns that are not of interest. We want this dataset to be generalized to multiple schools so don't need school type\n",
    "# also dropping mid period grades and absences / failures as this is too predictive & we want to predict for the beginning of the school year\n",
    "cols_to_drop = ['school','G1','G2','G3','failures','subject']\n",
    "df = df.drop(cols_to_drop, axis=1)"
   ]
  },
  {
   "cell_type": "code",
   "execution_count": 12,
   "metadata": {},
   "outputs": [
    {
     "data": {
      "image/png": "[encoded data removed]",
      "text/plain": [
       "<Figure size 432x288 with 2 Axes>"
      ]
     },
     "metadata": {},
     "output_type": "display_data"
    }
   ],
   "source": [
    "# viewing correlation between features (in case we use Logistic Regression)\n",
    "sns.heatmap(df.corr())\n",
    "plt.title(\"Correlation plot\")\n",
    "plt.show()"
   ]
  },
  {
   "cell_type": "code",
   "execution_count": 13,
   "metadata": {},
   "outputs": [
    {
     "data": {
      "text/html": [
       "<div>\n",
       "<style scoped>\n",
       "    .dataframe tbody tr th:only-of-type {\n",
       "        vertical-align: middle;\n",
       "    }\n",
       "\n",
       "    .dataframe tbody tr th {\n",
       "        vertical-align: top;\n",
       "    }\n",
       "\n",
       "    .dataframe thead th {\n",
       "        text-align: right;\n",
       "    }\n",
       "</style>\n",
       "<table border=\"1\" class=\"dataframe\">\n",
       "  <thead>\n",
       "    <tr style=\"text-align: right;\">\n",
       "      <th></th>\n",
       "      <th>corr</th>\n",
       "      <th>preds</th>\n",
       "    </tr>\n",
       "  </thead>\n",
       "  <tbody>\n",
       "    <tr>\n",
       "      <th>27</th>\n",
       "      <td>0.642063</td>\n",
       "      <td>Fedu &amp; Medu</td>\n",
       "    </tr>\n",
       "    <tr>\n",
       "      <th>15</th>\n",
       "      <td>0.642063</td>\n",
       "      <td>Medu &amp; Fedu</td>\n",
       "    </tr>\n",
       "    <tr>\n",
       "      <th>113</th>\n",
       "      <td>0.627814</td>\n",
       "      <td>Dalc &amp; Walc</td>\n",
       "    </tr>\n",
       "    <tr>\n",
       "      <th>125</th>\n",
       "      <td>0.627814</td>\n",
       "      <td>Walc &amp; Dalc</td>\n",
       "    </tr>\n",
       "    <tr>\n",
       "      <th>100</th>\n",
       "      <td>0.399794</td>\n",
       "      <td>goout &amp; Walc</td>\n",
       "    </tr>\n",
       "  </tbody>\n",
       "</table>\n",
       "</div>"
      ],
      "text/plain": [
       "         corr         preds\n",
       "27   0.642063   Fedu & Medu\n",
       "15   0.642063   Medu & Fedu\n",
       "113  0.627814   Dalc & Walc\n",
       "125  0.627814   Walc & Dalc\n",
       "100  0.399794  goout & Walc"
      ]
     },
     "execution_count": 13,
     "metadata": {},
     "output_type": "execute_result"
    }
   ],
   "source": [
    "# Another correlation view. looks like features are not highly correlated\n",
    "df_corr = df.corr().abs().stack().reset_index()\n",
    "df_corr['preds'] = df_corr['level_0']+' & '+df_corr['level_1']\n",
    "df_corr = df_corr.drop(['level_0','level_1'],axis = 1).rename(columns={0:'corr'}).sort_values(by='corr',ascending = False)\n",
    "df_corr.loc[(df_corr['corr'] != 1)].head()"
   ]
  },
  {
   "cell_type": "markdown",
   "metadata": {},
   "source": [
    "##### Transforming categorical data into dummy variables"
   ]
  },
  {
   "cell_type": "code",
   "execution_count": 14,
   "metadata": {},
   "outputs": [],
   "source": [
    "# Transforming categorical variables into dummies. don't need to drop first as multicollinearity is not an issue\n",
    "df = pd.get_dummies(df)"
   ]
  },
  {
   "cell_type": "code",
   "execution_count": 15,
   "metadata": {},
   "outputs": [],
   "source": [
    "# Splitting data into Features and Target\n",
    "X = df.drop('final_grade',axis = 1)\n",
    "y = df['final_grade']"
   ]
  },
  {
   "cell_type": "markdown",
   "metadata": {},
   "source": [
    "##### Splitting data into test and train data"
   ]
  },
  {
   "cell_type": "code",
   "execution_count": 16,
   "metadata": {},
   "outputs": [],
   "source": [
    "# Train Test Split, fitting models on Training data to assess performance on Test Data\n",
    "X_train, X_test, y_train, y_test = train_test_split(X, y, test_size = 0.33)"
   ]
  },
  {
   "cell_type": "markdown",
   "metadata": {},
   "source": [
    "## Modeling"
   ]
  },
  {
   "cell_type": "markdown",
   "metadata": {},
   "source": [
    "##### Creating function to evaluate accuracy of models with less  code"
   ]
  },
  {
   "cell_type": "code",
   "execution_count": 17,
   "metadata": {},
   "outputs": [],
   "source": [
    "def model_eval(model,X_train,y_train,X_test,y_test,cm=False, recall=False):\n",
    "    \n",
    "    y_hat_train = model.predict(X_train)\n",
    "    y_hat_test = model.predict(X_test)\n",
    "\n",
    "    # Accuracy= Number of True Positives + True Negatives / Total Observations\n",
    "    print('{} Results:'.format(model))\n",
    "    print('Training Accuracy: ', '{:0.3%}'.format(accuracy_score(y_train, y_hat_train)))\n",
    "    print('Testing Accuracy: ', '{:0.3%}\\n'.format(accuracy_score(y_test, y_hat_test)))\n",
    "    if recall == True:\n",
    "        # Recall - Out of all the athletes who ran under target, how many did our model correctly predict?\n",
    "        print('Training Recall: ', '{:0.3%}'.format(recall_score(y_train, y_hat_train)))\n",
    "        print('Testing Recall: ', '{:0.3%}\\n'.format(recall_score(y_test, y_hat_test)))\n",
    "    \n",
    "    if cm == True:\n",
    "        plot_confusion_matrix(model, X_test, y_test, cmap=plt.cm.Greens)"
   ]
  },
  {
   "cell_type": "markdown",
   "metadata": {},
   "source": [
    "#### Running First Classification Model Type  - Log Regression"
   ]
  },
  {
   "cell_type": "code",
   "execution_count": 18,
   "metadata": {
    "scrolled": false
   },
   "outputs": [
    {
     "name": "stdout",
     "output_type": "stream",
     "text": [
      "LogisticRegression() Results:\n",
      "Training Accuracy:  73.534%\n",
      "Testing Accuracy:  67.536%\n",
      "\n",
      "\n",
      " Our first model has an training accuracy of 71%, and testing of 68%, however we are getting a convergence warning so we need to scale our data and rerun.\n"
     ]
    },
    {
     "name": "stderr",
     "output_type": "stream",
     "text": [
      "/opt/anaconda3/envs/learn-env/lib/python3.8/site-packages/sklearn/linear_model/_logistic.py:762: ConvergenceWarning: lbfgs failed to converge (status=1):\n",
      "STOP: TOTAL NO. of ITERATIONS REACHED LIMIT.\n",
      "\n",
      "Increase the number of iterations (max_iter) or scale the data as shown in:\n",
      "    https://scikit-learn.org/stable/modules/preprocessing.html\n",
      "Please also refer to the documentation for alternative solver options:\n",
      "    https://scikit-learn.org/stable/modules/linear_model.html#logistic-regression\n",
      "  n_iter_i = _check_optimize_result(\n"
     ]
    },
    {
     "data": {
      "image/png": "[encoded data removed]",
      "text/plain": [
       "<Figure size 432x288 with 2 Axes>"
      ]
     },
     "metadata": {},
     "output_type": "display_data"
    }
   ],
   "source": [
    "# Running First Model, Logistic Regression\n",
    "\n",
    "# initializing logreg classifier and fitting on training data\n",
    "logreg = LogisticRegression()\n",
    "model_log = logreg.fit(X_train, y_train)\n",
    "\n",
    "# checking evaluation\n",
    "model_eval(model_log,X_train,y_train,X_test,y_test, cm=True)\n",
    "\n",
    "print('''\\n Our first model has an training accuracy of 71%, and testing of 68%, however we are getting a convergence warning so we need to scale our data and rerun.''')"
   ]
  },
  {
   "cell_type": "markdown",
   "metadata": {},
   "source": [
    "##### Normalizing the Data"
   ]
  },
  {
   "cell_type": "code",
   "execution_count": 19,
   "metadata": {},
   "outputs": [],
   "source": [
    "# Because we are getting a Convergence Warning, we should scale our data. \n",
    "# scaling sets all features to have a mean value of 0 and standard deviation of 1.\n",
    "scaler = StandardScaler()\n",
    "\n",
    "#Fit and transform on the training dataset only\n",
    "X_train_scaled = pd.DataFrame(scaler.fit_transform(X_train), columns=X_train.columns)\n",
    "\n",
    "#transfrorm only on the test dataset to avoid data leakage\n",
    "X_test_scaled  = pd.DataFrame(scaler.fit_transform(X_test), columns=X_train.columns)"
   ]
  },
  {
   "cell_type": "markdown",
   "metadata": {},
   "source": [
    "##### New Model - Log Regression with Scaled Data"
   ]
  },
  {
   "cell_type": "code",
   "execution_count": 20,
   "metadata": {},
   "outputs": [],
   "source": [
    "# fitting second model with scaled data\n",
    "logreg_2 = LogisticRegression(solver='liblinear')\n",
    "model_log_scaled = logreg.fit(X_train_scaled, y_train)"
   ]
  },
  {
   "cell_type": "code",
   "execution_count": 21,
   "metadata": {},
   "outputs": [
    {
     "name": "stdout",
     "output_type": "stream",
     "text": [
      "LogisticRegression() Results:\n",
      "Training Accuracy:  72.818%\n",
      "Testing Accuracy:  68.406%\n",
      "\n",
      "This new model has similar accuracy values with more accurate data (features are no longer getting incorrectly weighted based on the range of variables).\n",
      "We can potentially tune this model further, but first taking a look at other classification types, such as decision trees.\n"
     ]
    }
   ],
   "source": [
    "# Evaluating model\n",
    "model_eval(model_log_scaled, X_train_scaled, y_train, X_test_scaled, y_test)\n",
    "\n",
    "print('''This new model has similar accuracy values with more accurate data (features are no longer getting incorrectly weighted based on the range of variables).\n",
    "We can potentially tune this model further, but first taking a look at other classification types, such as decision trees.''')"
   ]
  },
  {
   "cell_type": "code",
   "execution_count": 22,
   "metadata": {},
   "outputs": [
    {
     "data": {
      "text/plain": [
       "{'C': 1.0,\n",
       " 'class_weight': None,\n",
       " 'dual': False,\n",
       " 'fit_intercept': True,\n",
       " 'intercept_scaling': 1,\n",
       " 'l1_ratio': None,\n",
       " 'max_iter': 100,\n",
       " 'multi_class': 'auto',\n",
       " 'n_jobs': None,\n",
       " 'penalty': 'l2',\n",
       " 'random_state': None,\n",
       " 'solver': 'lbfgs',\n",
       " 'tol': 0.0001,\n",
       " 'verbose': 0,\n",
       " 'warm_start': False}"
      ]
     },
     "execution_count": 22,
     "metadata": {},
     "output_type": "execute_result"
    }
   ],
   "source": [
    "# Can potentially tune model further to increase accuracy, but will take a look at Decision Trees first\n",
    "model_log.get_params()"
   ]
  },
  {
   "cell_type": "markdown",
   "metadata": {},
   "source": [
    "##### Modeling - Decision Trees"
   ]
  },
  {
   "cell_type": "code",
   "execution_count": 23,
   "metadata": {},
   "outputs": [
    {
     "name": "stdout",
     "output_type": "stream",
     "text": [
      "DecisionTreeClassifier() Results:\n",
      "Training Accuracy:  98.999%\n",
      "Testing Accuracy:  60.000%\n",
      "\n",
      "Training models are performing exceptionally well while the testing is only at ~58% accuracy. model is severly overfitting. We need to prune this tree\n"
     ]
    },
    {
     "data": {
      "image/png": "[encoded data removed]",
      "text/plain": [
       "<Figure size 432x288 with 2 Axes>"
      ]
     },
     "metadata": {},
     "output_type": "display_data"
    }
   ],
   "source": [
    "# Checking if a Decision Tree can outperform Logistic Regression:\n",
    "\n",
    "# fitting decision tree classifier\n",
    "dt = DecisionTreeClassifier()\n",
    "model_dt = dt.fit(X_train, y_train)\n",
    "\n",
    "# evaluating model\n",
    "model_eval(model_dt, X_train, y_train, X_test, y_test, cm = True)\n",
    "print('Training models are performing exceptionally well while the testing is only at ~58% accuracy. model is severly overfitting. We need to prune this tree')"
   ]
  },
  {
   "cell_type": "markdown",
   "metadata": {},
   "source": [
    "##### Modeling - Decision Tree with Pruning"
   ]
  },
  {
   "cell_type": "code",
   "execution_count": 24,
   "metadata": {},
   "outputs": [
    {
     "name": "stdout",
     "output_type": "stream",
     "text": [
      "DecisionTreeClassifier(max_depth=6) Results:\n",
      "Training Accuracy:  74.535%\n",
      "Testing Accuracy:  59.420%\n",
      "\n",
      "Pruning tree to change max_depth. max_depth sets the maximum depth the tree can be, as too many splits until nodes are 'pure' can cause overfitting. This\n",
      "is helping increase test data and bridging gap between train and test accuracies. let's prune some more.\n"
     ]
    }
   ],
   "source": [
    "# fitting new decision tree classifier with max_depth = 6\n",
    "dt2 = DecisionTreeClassifier(max_depth=6)\n",
    "model_dt2 = dt2.fit(X_train, y_train)\n",
    "\n",
    "# evaluating new model\n",
    "model_eval(model_dt2, X_train, y_train, X_test, y_test)\n",
    "print('''Pruning tree to change max_depth. max_depth sets the maximum depth the tree can be, as too many splits until nodes are 'pure' can cause overfitting. This\n",
    "is helping increase test data and bridging gap between train and test accuracies. let's prune some more.''')"
   ]
  },
  {
   "cell_type": "code",
   "execution_count": 25,
   "metadata": {},
   "outputs": [
    {
     "name": "stdout",
     "output_type": "stream",
     "text": [
      "DecisionTreeClassifier(max_depth=6, min_samples_split=0.1) Results:\n",
      "Training Accuracy:  70.100%\n",
      "Testing Accuracy:  60.580%\n",
      "\n",
      "Our model further improves when adjusting the minimum samples split value to 0.1. This sets the minimum samples required to split a node in the tree \n",
      "(10% of the sample) However it is still overfitting based on the difference in training and testing accuracty values, and our test data is not very high. Before we tune\n",
      "some more, let's test the accuracy of random forests, as they are more robust to outliers and may generate higher scores\n"
     ]
    },
    {
     "data": {
      "image/png": "[encoded data removed]",
      "text/plain": [
       "<Figure size 432x288 with 2 Axes>"
      ]
     },
     "metadata": {},
     "output_type": "display_data"
    }
   ],
   "source": [
    "# changing samples_split to 0.1 further improves the model. \n",
    "dt3 = DecisionTreeClassifier(max_depth=6, min_samples_split=0.1)\n",
    "model_dt3 = dt3.fit(X_train, y_train)\n",
    "\n",
    "model_eval(model_dt3, X_train, y_train, X_test, y_test, cm = True)\n",
    "print('''Our model further improves when adjusting the minimum samples split value to 0.1. This sets the minimum samples required to split a node in the tree \n",
    "(10% of the sample) However it is still overfitting based on the difference in training and testing accuracty values, and our test data is not very high. Before we tune\n",
    "some more, let's test the accuracy of random forests, as they are more robust to outliers and may generate higher scores''')"
   ]
  },
  {
   "cell_type": "code",
   "execution_count": 26,
   "metadata": {},
   "outputs": [
    {
     "data": {
      "text/plain": [
       "{'ccp_alpha': 0.0,\n",
       " 'class_weight': None,\n",
       " 'criterion': 'gini',\n",
       " 'max_depth': 6,\n",
       " 'max_features': None,\n",
       " 'max_leaf_nodes': None,\n",
       " 'min_impurity_decrease': 0.0,\n",
       " 'min_impurity_split': None,\n",
       " 'min_samples_leaf': 1,\n",
       " 'min_samples_split': 0.1,\n",
       " 'min_weight_fraction_leaf': 0.0,\n",
       " 'presort': 'deprecated',\n",
       " 'random_state': None,\n",
       " 'splitter': 'best'}"
      ]
     },
     "execution_count": 26,
     "metadata": {},
     "output_type": "execute_result"
    }
   ],
   "source": [
    "# taking a look at parameters we can adjust\n",
    "dt3.get_params()"
   ]
  },
  {
   "cell_type": "markdown",
   "metadata": {},
   "source": [
    "##### Modeling - Random Forests"
   ]
  },
  {
   "cell_type": "code",
   "execution_count": 27,
   "metadata": {},
   "outputs": [
    {
     "name": "stdout",
     "output_type": "stream",
     "text": [
      "RandomForestClassifier() Results:\n",
      "Training Accuracy:  98.999%\n",
      "Testing Accuracy:  66.087%\n",
      "\n",
      "Random forests are a ensemble of multiple decision trees. data is partitioned randomly into train and testing data for each decision tree, then all trees vote\n",
      "on a prediction based on the majority rule.\n"
     ]
    }
   ],
   "source": [
    "# Instantiate and fit a RandomForestClassifier\n",
    "forest = RandomForestClassifier() #criterion='gini', min_samples_leaf=0.1, min_samples_split=0.1\n",
    "model_rf = forest.fit(X_train,y_train)\n",
    "\n",
    "# Evaluate\n",
    "model_eval(model_rf,X_train,y_train,X_test,y_test)\n",
    "           \n",
    "print('''Random forests are a ensemble of multiple decision trees. data is partitioned randomly into train and testing data for each decision tree, then all trees vote\n",
    "on a prediction based on the majority rule.''')"
   ]
  },
  {
   "cell_type": "code",
   "execution_count": 28,
   "metadata": {},
   "outputs": [],
   "source": [
    "# creating param grid to apply to random forest model\n",
    "rf_param_grid = {\n",
    "    'criterion':['gini','entropy'],\n",
    "    'max_depth':[None,5,7,8],\n",
    "    'min_samples_split':[0.05,0.1,0.2,0.3],\n",
    "    'min_samples_leaf':[0.1,0.2,0.3]\n",
    "                }"
   ]
  },
  {
   "cell_type": "code",
   "execution_count": 29,
   "metadata": {},
   "outputs": [
    {
     "name": "stdout",
     "output_type": "stream",
     "text": [
      "Test Accuracy:  62.225%\n"
     ]
    }
   ],
   "source": [
    "# Instantiate GridSearchCV\n",
    "rf_cv = GridSearchCV(model_rf, rf_param_grid, scoring='accuracy')\n",
    "\n",
    "# Fit to the data\n",
    "rf_cv.fit(X_train, y_train)\n",
    "\n",
    "# evaluating data\n",
    "print('Test Accuracy: ','{:0.3%}'.format(rf_cv.best_score_))"
   ]
  },
  {
   "cell_type": "code",
   "execution_count": 30,
   "metadata": {},
   "outputs": [
    {
     "data": {
      "text/plain": [
       "{'criterion': 'gini',\n",
       " 'max_depth': 8,\n",
       " 'min_samples_leaf': 0.1,\n",
       " 'min_samples_split': 0.3}"
      ]
     },
     "execution_count": 30,
     "metadata": {},
     "output_type": "execute_result"
    }
   ],
   "source": [
    "rf_cv.best_params_"
   ]
  },
  {
   "cell_type": "markdown",
   "metadata": {},
   "source": [
    "##### Modeling - Further tuning inital Logistic Regression Model"
   ]
  },
  {
   "cell_type": "code",
   "execution_count": 31,
   "metadata": {},
   "outputs": [
    {
     "data": {
      "text/plain": [
       "dict_keys(['C', 'class_weight', 'dual', 'fit_intercept', 'intercept_scaling', 'l1_ratio', 'max_iter', 'multi_class', 'n_jobs', 'penalty', 'random_state', 'solver', 'tol', 'verbose', 'warm_start'])"
      ]
     },
     "execution_count": 31,
     "metadata": {},
     "output_type": "execute_result"
    }
   ],
   "source": [
    "# When tackling overfitting, the model's accuracy falls to below our logistic regression model (model 1). lets go back to that and tune.\n",
    "# Looking at parameters for logistic regression\n",
    "model_log_scaled.get_params().keys()"
   ]
  },
  {
   "cell_type": "code",
   "execution_count": 32,
   "metadata": {},
   "outputs": [],
   "source": [
    "log_param_grid = {\n",
    "    'C':[1,1e2,1e3],\n",
    "    'fit_intercept':[True,False],\n",
    "    'solver':['newton-cg', 'lbfgs', 'liblinear', 'sag', 'saga']\n",
    "                }"
   ]
  },
  {
   "cell_type": "code",
   "execution_count": 33,
   "metadata": {
    "scrolled": true
   },
   "outputs": [
    {
     "data": {
      "text/plain": [
       "GridSearchCV(estimator=LogisticRegression(),\n",
       "             param_grid={'C': [1, 100.0, 1000.0],\n",
       "                         'fit_intercept': [True, False],\n",
       "                         'solver': ['newton-cg', 'lbfgs', 'liblinear', 'sag',\n",
       "                                    'saga']},\n",
       "             scoring='accuracy')"
      ]
     },
     "execution_count": 33,
     "metadata": {},
     "output_type": "execute_result"
    }
   ],
   "source": [
    "# Instantiate GridSearchCV\n",
    "log_cv = GridSearchCV(model_log_scaled, log_param_grid, scoring='accuracy')\n",
    "\n",
    "# Fit to the data\n",
    "log_cv.fit(X_train_scaled, y_train)"
   ]
  },
  {
   "cell_type": "code",
   "execution_count": 34,
   "metadata": {},
   "outputs": [
    {
     "name": "stdout",
     "output_type": "stream",
     "text": [
      "Test Accuracy:  65.803%\n"
     ]
    }
   ],
   "source": [
    "# evaluating model\n",
    "print('Test Accuracy: ','{:0.3%}'.format(log_cv.best_score_))"
   ]
  },
  {
   "cell_type": "code",
   "execution_count": 35,
   "metadata": {},
   "outputs": [],
   "source": [
    "# looking up the best K for KNN \n",
    "def find_best_k(X_train_scaled, y_train, X_test_scaled, y_test, min_k=1, max_k=25):\n",
    "    best_k = 0\n",
    "    best_score = 0\n",
    "    for i in range(min_k,max_k+1, 2):\n",
    "        clf = KNeighborsClassifier(n_neighbors=i)\n",
    "        clf.fit(X_train_scaled,y_train)\n",
    "        test_preds = clf.predict(X_test_scaled)\n",
    "        score = accuracy_score(y_test,test_preds)\n",
    "        if score > best_score:\n",
    "            best_score = score\n",
    "            best_k = i     \n",
    "    return best_k"
   ]
  },
  {
   "cell_type": "code",
   "execution_count": 36,
   "metadata": {},
   "outputs": [],
   "source": [
    "best_k = find_best_k(X_train_scaled, y_train, X_test_scaled, y_test)"
   ]
  },
  {
   "cell_type": "code",
   "execution_count": 37,
   "metadata": {},
   "outputs": [
    {
     "name": "stdout",
     "output_type": "stream",
     "text": [
      "KNeighborsClassifier(n_neighbors=15) Results:\n",
      "Training Accuracy:  71.960%\n",
      "Testing Accuracy:  65.217%\n",
      "\n"
     ]
    }
   ],
   "source": [
    "# Taking a look at KNN models to compare\n",
    "knn = KNeighborsClassifier(n_neighbors = best_k)\n",
    "\n",
    "# fitting classifier\n",
    "model_knn = knn.fit(X_train_scaled, y_train)\n",
    "\n",
    "# predicting on scaled set\n",
    "model_eval(model_knn,X_train_scaled,y_train,X_test_scaled,y_test)"
   ]
  },
  {
   "cell_type": "code",
   "execution_count": 38,
   "metadata": {},
   "outputs": [
    {
     "data": {
      "text/plain": [
       "{'algorithm': 'auto',\n",
       " 'leaf_size': 30,\n",
       " 'metric': 'minkowski',\n",
       " 'metric_params': None,\n",
       " 'n_jobs': None,\n",
       " 'n_neighbors': 15,\n",
       " 'p': 2,\n",
       " 'weights': 'uniform'}"
      ]
     },
     "execution_count": 38,
     "metadata": {},
     "output_type": "execute_result"
    }
   ],
   "source": [
    "knn.get_params()"
   ]
  },
  {
   "cell_type": "code",
   "execution_count": 39,
   "metadata": {
    "scrolled": false
   },
   "outputs": [
    {
     "name": "stdout",
     "output_type": "stream",
     "text": [
      " Accuracy and Recall Scores of all models tested:\n",
      "----------------------------------\n",
      "\n",
      "LogisticRegression() Results:\n",
      "Training Accuracy:  72.818%\n",
      "Testing Accuracy:  68.406%\n",
      "\n",
      "DecisionTreeClassifier() Results:\n",
      "Training Accuracy:  98.999%\n",
      "Testing Accuracy:  60.000%\n",
      "\n",
      "DecisionTreeClassifier(max_depth=6) Results:\n",
      "Training Accuracy:  74.535%\n",
      "Testing Accuracy:  59.420%\n",
      "\n",
      "DecisionTreeClassifier(max_depth=6, min_samples_split=0.1) Results:\n",
      "Training Accuracy:  70.100%\n",
      "Testing Accuracy:  60.580%\n",
      "\n",
      "RandomForestClassifier() Results:\n",
      "Training Accuracy:  98.999%\n",
      "Testing Accuracy:  66.087%\n",
      "\n",
      "GridSearchCV(estimator=RandomForestClassifier(),\n",
      "             param_grid={'criterion': ['gini', 'entropy'],\n",
      "                         'max_depth': [None, 5, 7, 8],\n",
      "                         'min_samples_leaf': [0.1, 0.2, 0.3],\n",
      "                         'min_samples_split': [0.05, 0.1, 0.2, 0.3]},\n",
      "             scoring='accuracy') \n",
      "Test Accuracy:  62.225%\n",
      "\n",
      "KNeighborsClassifier(n_neighbors=15) Results:\n",
      "Training Accuracy:  71.960%\n",
      "Testing Accuracy:  65.217%\n",
      "\n",
      "GridSearchCV(estimator=LogisticRegression(),\n",
      "             param_grid={'C': [1, 100.0, 1000.0],\n",
      "                         'fit_intercept': [True, False],\n",
      "                         'solver': ['newton-cg', 'lbfgs', 'liblinear', 'sag',\n",
      "                                    'saga']},\n",
      "             scoring='accuracy') \n",
      "Test Accuracy:  65.803%\n"
     ]
    }
   ],
   "source": [
    "print(' Accuracy and Recall Scores of all models tested:\\n----------------------------------\\n')\n",
    "model_eval(model_log_scaled,X_train_scaled,y_train,X_test_scaled, y_test)\n",
    "model_eval(model_dt,X_train,y_train,X_test, y_test)\n",
    "model_eval(model_dt2,X_train,y_train,X_test, y_test)\n",
    "model_eval(model_dt3,X_train,y_train,X_test, y_test)\n",
    "model_eval(model_rf,X_train,y_train,X_test, y_test)\n",
    "print(rf_cv,'\\nTest Accuracy: ','{:0.3%}\\n'.format(rf_cv.best_score_))\n",
    "model_eval(model_knn,X_train_scaled,y_train, X_test_scaled, y_test)\n",
    "print(log_cv,'\\nTest Accuracy: ','{:0.3%}'.format(log_cv.best_score_))"
   ]
  },
  {
   "cell_type": "code",
   "execution_count": 40,
   "metadata": {},
   "outputs": [
    {
     "name": "stdout",
     "output_type": "stream",
     "text": [
      "LogisticRegression(C=1, fit_intercept=False, solver='newton-cg') Results:\n",
      "Training Accuracy:  71.960%\n",
      "Testing Accuracy:  68.406%\n",
      "\n"
     ]
    },
    {
     "data": {
      "image/png": "[encoded data removed]",
      "text/plain": [
       "<Figure size 432x288 with 2 Axes>"
      ]
     },
     "metadata": {},
     "output_type": "display_data"
    }
   ],
   "source": [
    "# evaluating coefficients for best parameters found in our Logistic Regression grid search\n",
    "final_model = LogisticRegression(C = log_cv.best_params_['C'], \n",
    "                                 fit_intercept= log_cv.best_params_['fit_intercept'], \n",
    "                                 solver=log_cv.best_params_['solver'])\n",
    "\n",
    "final_model.fit(X_train_scaled,y_train)\n",
    "model_eval(final_model, X_train_scaled, y_train, X_test_scaled, y_test, cm=True)"
   ]
  },
  {
   "cell_type": "code",
   "execution_count": 41,
   "metadata": {},
   "outputs": [
    {
     "data": {
      "text/plain": [
       "53"
      ]
     },
     "execution_count": 41,
     "metadata": {},
     "output_type": "execute_result"
    }
   ],
   "source": [
    "final_model.intercept_\n",
    "final_model.n_features_in_"
   ]
  },
  {
   "cell_type": "code",
   "execution_count": 42,
   "metadata": {},
   "outputs": [
    {
     "data": {
      "text/html": [
       "<div>\n",
       "<style scoped>\n",
       "    .dataframe tbody tr th:only-of-type {\n",
       "        vertical-align: middle;\n",
       "    }\n",
       "\n",
       "    .dataframe tbody tr th {\n",
       "        vertical-align: top;\n",
       "    }\n",
       "\n",
       "    .dataframe thead th {\n",
       "        text-align: right;\n",
       "    }\n",
       "</style>\n",
       "<table border=\"1\" class=\"dataframe\">\n",
       "  <thead>\n",
       "    <tr style=\"text-align: right;\">\n",
       "      <th></th>\n",
       "      <th>feature</th>\n",
       "      <th>coefficient</th>\n",
       "    </tr>\n",
       "  </thead>\n",
       "  <tbody>\n",
       "    <tr>\n",
       "      <th>11</th>\n",
       "      <td>absences</td>\n",
       "      <td>0.346918</td>\n",
       "    </tr>\n",
       "    <tr>\n",
       "      <th>38</th>\n",
       "      <td>schoolsup_yes</td>\n",
       "      <td>0.233313</td>\n",
       "    </tr>\n",
       "    <tr>\n",
       "      <th>47</th>\n",
       "      <td>higher_no</td>\n",
       "      <td>0.215831</td>\n",
       "    </tr>\n",
       "    <tr>\n",
       "      <th>36</th>\n",
       "      <td>guardian_other</td>\n",
       "      <td>0.156982</td>\n",
       "    </tr>\n",
       "    <tr>\n",
       "      <th>0</th>\n",
       "      <td>age</td>\n",
       "      <td>0.153170</td>\n",
       "    </tr>\n",
       "  </tbody>\n",
       "</table>\n",
       "</div>"
      ],
      "text/plain": [
       "           feature  coefficient\n",
       "11        absences     0.346918\n",
       "38   schoolsup_yes     0.233313\n",
       "47       higher_no     0.215831\n",
       "36  guardian_other     0.156982\n",
       "0              age     0.153170"
      ]
     },
     "execution_count": 42,
     "metadata": {},
     "output_type": "execute_result"
    }
   ],
   "source": [
    "coefs = pd.concat([pd.DataFrame(X_train_scaled.columns, columns=['feature']),pd.DataFrame(model_log_scaled.coef_[0], columns = ['coefficient'])], axis=1)\n",
    "coefs.sort_values(by='coefficient', ascending = False).head()"
   ]
  },
  {
   "cell_type": "code",
   "execution_count": 43,
   "metadata": {},
   "outputs": [],
   "source": [
    "# https://quantifyinghealth.com/interpret-logistic-regression-coefficients/\n",
    "# https://www.analyticsvidhya.com/blog/2021/09/guide-for-building-an-end-to-end-logistic-regression-model/"
   ]
  },
  {
   "cell_type": "markdown",
   "metadata": {},
   "source": [
    "## Model Evaluation"
   ]
  },
  {
   "cell_type": "code",
   "execution_count": 44,
   "metadata": {},
   "outputs": [],
   "source": [
    "# We are going with "
   ]
  }
 ],
 "metadata": {
  "kernelspec": {
   "display_name": "Python 3",
   "language": "python",
   "name": "python3"
  },
  "language_info": {
   "codemirror_mode": {
    "name": "ipython",
    "version": 3
   },
   "file_extension": ".py",
   "mimetype": "text/x-python",
   "name": "python",
   "nbconvert_exporter": "python",
   "pygments_lexer": "ipython3",
   "version": "3.8.5"
  }
 },
 "nbformat": 4,
 "nbformat_minor": 4
}
